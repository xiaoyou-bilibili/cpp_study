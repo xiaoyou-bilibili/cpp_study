{
 "cells": [
  {
   "cell_type": "code",
   "execution_count": 2,
   "id": "8b511098",
   "metadata": {},
   "outputs": [],
   "source": [
    "#include <iostream>\n",
    "using namespace std;"
   ]
  },
  {
   "cell_type": "markdown",
   "id": "ad082029",
   "metadata": {},
   "source": [
    "## 12.1 动态内存和类"
   ]
  },
  {
   "cell_type": "markdown",
   "id": "0794eef4",
   "metadata": {},
   "source": [
    "可以将成员函数声明为静态的（函数声明必须包含关键字static，但\n",
    "如果函数定义是独立的，则其中不能包含关键字static），这样做有两个\n",
    "重要的后果。\n",
    "\n",
    "首先，不能通过对象调用静态成员函数；实际上，静态成员函数甚\n",
    "至不能使用this指针。如果静态成员函数是在公有部分声明的，则可以\n",
    "使用类名和作用域解析运算符来调用它。"
   ]
  },
  {
   "cell_type": "code",
   "execution_count": 5,
   "id": "499ab227",
   "metadata": {},
   "outputs": [],
   "source": [
    "class A{\n",
    "    public:\n",
    "    static void show(){cout<<\"static method\";}\n",
    "}"
   ]
  },
  {
   "cell_type": "code",
   "execution_count": 6,
   "id": "be5a55d8",
   "metadata": {},
   "outputs": [
    {
     "name": "stdout",
     "output_type": "stream",
     "text": [
      "static method"
     ]
    }
   ],
   "source": [
    "// 然后我们这样调用静态方法\n",
    "A::show();"
   ]
  },
  {
   "cell_type": "markdown",
   "id": "358459b7",
   "metadata": {},
   "source": [
    "## 12.3 在构造函数中使用new注意事项\n",
    "- 如果在构造函数中使用new来初始化指针成员，则应在析构函数中\n",
    "使用delete。\n",
    "- new和delete必须相互兼容。new对应于delete，new[ ]对应于delete[]。\n",
    "- 如果有多个构造函数，则必须以相同的方式使用new，要么都带中\n",
    "括号，要么都不带。因为只有一个析构函数，所有的构造函数都必\n",
    "须与它兼容。然而，可以在一个构造函数中使用new初始化指针，\n",
    "而在另一个构造函数中将指针初始化为空（0或C++11中的\n",
    "nullptr），这是因为delete（无论是带中括号还是不带中括号）可以\n",
    "用于空指针。"
   ]
  },
  {
   "cell_type": "code",
   "execution_count": null,
   "id": "98540049",
   "metadata": {},
   "outputs": [],
   "source": []
  }
 ],
 "metadata": {
  "kernelspec": {
   "display_name": "C++17",
   "language": "C++17",
   "name": "xcpp17"
  },
  "language_info": {
   "codemirror_mode": "text/x-c++src",
   "file_extension": ".cpp",
   "mimetype": "text/x-c++src",
   "name": "c++",
   "version": "17"
  }
 },
 "nbformat": 4,
 "nbformat_minor": 5
}
