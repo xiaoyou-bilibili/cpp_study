{
 "cells": [
  {
   "cell_type": "code",
   "execution_count": 1,
   "id": "3fbe66c4-11dd-434b-895f-6e51d870be23",
   "metadata": {},
   "outputs": [],
   "source": [
    "#include <iostream>\n",
    "using namespace std;"
   ]
  },
  {
   "cell_type": "markdown",
   "id": "f8e709f1-6d48-44d7-9bfe-3477cf6b97aa",
   "metadata": {},
   "source": [
    "## 17.1 c++输入和输出的概述"
   ]
  },
  {
   "cell_type": "markdown",
   "id": "9c2fa396-aae8-4bab-9622-a8ca862c8d77",
   "metadata": {},
   "source": [
    "## 17.2 使用cout进行输出"
   ]
  },
  {
   "cell_type": "markdown",
   "id": "38045a74-93a1-4a00-8270-4d909e9ea82d",
   "metadata": {},
   "source": [
    "## 17.3 使用cin进行输入"
   ]
  },
  {
   "cell_type": "markdown",
   "id": "c3c49f31-d51e-46e8-9951-e8c70e0d2af3",
   "metadata": {},
   "source": [
    "## 17.4 文件输入和输出"
   ]
  },
  {
   "cell_type": "markdown",
   "id": "04d08c6b-8b2a-42cf-a08a-222c8e1d7cc9",
   "metadata": {},
   "source": [
    "## 17.5 内核格式化"
   ]
  },
  {
   "cell_type": "markdown",
   "id": "39c2de84-f710-4661-af14-bade2f25d701",
   "metadata": {},
   "source": [
    "这块用的不多，先暂时跳过吧。。。。"
   ]
  }
 ],
 "metadata": {
  "kernelspec": {
   "display_name": "C++17",
   "language": "C++17",
   "name": "xcpp17"
  },
  "language_info": {
   "codemirror_mode": "text/x-c++src",
   "file_extension": ".cpp",
   "mimetype": "text/x-c++src",
   "name": "c++",
   "version": "17"
  }
 },
 "nbformat": 4,
 "nbformat_minor": 5
}
