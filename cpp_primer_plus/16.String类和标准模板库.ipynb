{
 "cells": [
  {
   "cell_type": "markdown",
   "id": "76ddb051-e272-4b23-89b4-e1ab60b15861",
   "metadata": {},
   "source": [
    "## 16.1 String类"
   ]
  },
  {
   "cell_type": "code",
   "execution_count": 2,
   "id": "2b43a25f-409c-49db-bd0a-8ff17aaae7ea",
   "metadata": {},
   "outputs": [],
   "source": [
    "#include <iostream>\n",
    "using namespace std;"
   ]
  },
  {
   "cell_type": "code",
   "execution_count": 2,
   "id": "1ef4d0c7-da77-413b-a9a5-ff27e04ab32d",
   "metadata": {},
   "outputs": [],
   "source": [
    "// 我们可以手动引入这个类\n",
    "#include <string>"
   ]
  },
  {
   "cell_type": "code",
   "execution_count": 4,
   "id": "6c38343e-ef06-4ce9-8032-648e6d80c4b9",
   "metadata": {},
   "outputs": [
    {
     "name": "stdout",
     "output_type": "stream",
     "text": [
      "Lottery Winner!"
     ]
    }
   ],
   "source": [
    "// 下面是string的几种初始化方式\n",
    "string one(\"Lottery Winner!\");\n",
    "cout<<one;"
   ]
  },
  {
   "cell_type": "code",
   "execution_count": 5,
   "id": "59e1a911-1df1-498f-9014-7df23960b91b",
   "metadata": {},
   "outputs": [
    {
     "name": "stdout",
     "output_type": "stream",
     "text": [
      "$$$$$$$$$$$$$$$$$$$$"
     ]
    }
   ],
   "source": [
    "string two(20,'$');\n",
    "cout<<two;"
   ]
  },
  {
   "cell_type": "code",
   "execution_count": 6,
   "id": "9ff0e4e6-b3dc-404a-bd6c-77df6e9255b1",
   "metadata": {},
   "outputs": [
    {
     "name": "stdout",
     "output_type": "stream",
     "text": [
      "Lottery Winner!"
     ]
    }
   ],
   "source": [
    "string three(one);\n",
    "cout<<three;"
   ]
  },
  {
   "cell_type": "code",
   "execution_count": 7,
   "id": "2679f473-6418-4718-9bbd-94ab24251927",
   "metadata": {},
   "outputs": [
    {
     "name": "stdout",
     "output_type": "stream",
     "text": [
      "Pottery Winner!"
     ]
    }
   ],
   "source": [
    "// 我们可以手动修改某一位的值\n",
    "three[0] = 'P';\n",
    "cout<<three;"
   ]
  },
  {
   "cell_type": "code",
   "execution_count": 8,
   "id": "343eb750-a9f8-439d-834a-dff40793a068",
   "metadata": {},
   "outputs": [
    {
     "name": "stdout",
     "output_type": "stream",
     "text": [
      "$$$$$$$$$$$$$$$$$$$$Pottery Winner!"
     ]
    }
   ],
   "source": [
    "// 也可以直接拼接字符串\n",
    "string four;\n",
    "four = two+three;\n",
    "cout<<four;"
   ]
  },
  {
   "cell_type": "code",
   "execution_count": 9,
   "id": "03f423d8-25be-4ff8-b62f-2734dab383c6",
   "metadata": {},
   "outputs": [
    {
     "name": "stdout",
     "output_type": "stream",
     "text": [
      "all's well that end "
     ]
    }
   ],
   "source": [
    "// 可以把char转换为字符串\n",
    "char alls[] = \"all's well that end well\";\n",
    "string five(alls,20);\n",
    "cout<<five;"
   ]
  },
  {
   "cell_type": "code",
   "execution_count": 10,
   "id": "c5b4091b-7a44-4201-b934-04dd5230350d",
   "metadata": {},
   "outputs": [
    {
     "name": "stdout",
     "output_type": "stream",
     "text": [
      "well"
     ]
    }
   ],
   "source": [
    "// 可以指定位置截取\n",
    "string six(alls+6,alls+10);\n",
    "cout<<six;"
   ]
  },
  {
   "cell_type": "code",
   "execution_count": 11,
   "id": "9c31598e-ae25-4647-a43e-8c5879cd7032",
   "metadata": {},
   "outputs": [
    {
     "name": "stdout",
     "output_type": "stream",
     "text": [
      "well"
     ]
    }
   ],
   "source": [
    "// 也可以这样\n",
    "string seven(&five[6],&five[10]);\n",
    "cout<<seven;"
   ]
  },
  {
   "cell_type": "code",
   "execution_count": 14,
   "id": "a6b2ae1c-3195-4c64-a137-e5764e2b7f1a",
   "metadata": {},
   "outputs": [
    {
     "name": "stdout",
     "output_type": "stream",
     "text": [
      "well"
     ]
    }
   ],
   "source": [
    "// 或者这样,，前面是开头，后面是位数\n",
    "string eight(five,6,4);\n",
    "cout<<eight;"
   ]
  },
  {
   "cell_type": "code",
   "execution_count": 16,
   "id": "42bdfc2d-bc61-410f-b505-a3be6398a9b9",
   "metadata": {},
   "outputs": [
    {
     "name": "stdin",
     "output_type": "stream",
     "text": [
      " hello word\n"
     ]
    },
    {
     "name": "stdout",
     "output_type": "stream",
     "text": [
      "hello"
     ]
    }
   ],
   "source": [
    "// 传统字符串输入方式\n",
    "char info[100];\n",
    "// 获取一个单词\n",
    "cin>>info;\n",
    "cout<<info;"
   ]
  },
  {
   "cell_type": "code",
   "execution_count": 18,
   "id": "67603de4-2aef-41a4-a6f5-adb91ca23571",
   "metadata": {},
   "outputs": [
    {
     "name": "stdin",
     "output_type": "stream",
     "text": [
      " hello word\n"
     ]
    },
    {
     "name": "stdout",
     "output_type": "stream",
     "text": [
      "hello word"
     ]
    }
   ],
   "source": [
    "// 获取一行\n",
    "cin.getline(info,100);\n",
    "cout<<info;"
   ]
  },
  {
   "cell_type": "code",
   "execution_count": 22,
   "id": "ad3088bd-10ee-4ee7-80af-7d0006bb3caf",
   "metadata": {},
   "outputs": [
    {
     "name": "stdin",
     "output_type": "stream",
     "text": [
      " hello word\n"
     ]
    },
    {
     "name": "stdout",
     "output_type": "stream",
     "text": [
      "hello wordsss"
     ]
    }
   ],
   "source": [
    "// 这样也可以\n",
    "cin.get(info,100);\n",
    "cout<<info;"
   ]
  },
  {
   "cell_type": "code",
   "execution_count": 24,
   "id": "73868134-87be-4bcd-afdf-df0021e251ae",
   "metadata": {},
   "outputs": [
    {
     "name": "stdin",
     "output_type": "stream",
     "text": [
      " hello you\n"
     ]
    },
    {
     "name": "stdout",
     "output_type": "stream",
     "text": [
      "hello"
     ]
    }
   ],
   "source": [
    "// c++和这个类似\n",
    "string stuff;\n",
    "// 获取一个单词\n",
    "cin>>stuff;\n",
    "cout<<stuff;"
   ]
  },
  {
   "cell_type": "code",
   "execution_count": 26,
   "id": "74133227-f8b1-425b-8dda-f137ccf8326d",
   "metadata": {},
   "outputs": [
    {
     "name": "stdin",
     "output_type": "stream",
     "text": [
      " hello word\n"
     ]
    },
    {
     "name": "stdout",
     "output_type": "stream",
     "text": [
      "hello word"
     ]
    }
   ],
   "source": [
    "// 获取一行\n",
    "getline(cin,stuff);\n",
    "cout<<stuff;"
   ]
  },
  {
   "cell_type": "code",
   "execution_count": 27,
   "id": "caded4e8-12d5-488a-85b3-e6c27cbb130b",
   "metadata": {},
   "outputs": [
    {
     "name": "stdin",
     "output_type": "stream",
     "text": [
      " 456:789\n"
     ]
    },
    {
     "name": "stdout",
     "output_type": "stream",
     "text": [
      "456"
     ]
    }
   ],
   "source": [
    "// 可以指定使用那个字符串来作为结尾\n",
    "cin.getline(info,100,':');\n",
    "cout<<info;"
   ]
  },
  {
   "cell_type": "code",
   "execution_count": 3,
   "id": "6eb81cb4-d0fd-4858-a4c0-d1b5f70e6866",
   "metadata": {},
   "outputs": [],
   "source": [
    "// 下面演示一下字符串的一些方法\n",
    "string snake1(\"cobra\");\n",
    "string snake2(\"coral\");\n",
    "char snake3[20] = \"anaconda\";"
   ]
  },
  {
   "cell_type": "code",
   "execution_count": 33,
   "id": "1d169555-9ee1-4c86-aa06-2b58e9ce73fe",
   "metadata": {},
   "outputs": [
    {
     "name": "stdout",
     "output_type": "stream",
     "text": [
      "true"
     ]
    }
   ],
   "source": [
    "if (snake1<snake2) cout<<\"true\"; else cout<<\"false\";"
   ]
  },
  {
   "cell_type": "code",
   "execution_count": 34,
   "id": "06db7c1d-7ec8-4b7c-a3f8-ce586bac8305",
   "metadata": {},
   "outputs": [
    {
     "name": "stdout",
     "output_type": "stream",
     "text": [
      "false"
     ]
    }
   ],
   "source": [
    "if (snake1==snake3) cout<<\"true\"; else cout<<\"false\";"
   ]
  },
  {
   "cell_type": "code",
   "execution_count": 35,
   "id": "d2e56b13-82f1-4207-8a14-0006204f9b5c",
   "metadata": {},
   "outputs": [
    {
     "name": "stdout",
     "output_type": "stream",
     "text": [
      "true"
     ]
    }
   ],
   "source": [
    "if (snake3!=snake2) cout<<\"true\"; else cout<<\"false\";"
   ]
  },
  {
   "cell_type": "code",
   "execution_count": 37,
   "id": "80eb7b82-3373-45ef-8ea0-5da7886cacfb",
   "metadata": {},
   "outputs": [
    {
     "name": "stdout",
     "output_type": "stream",
     "text": [
      "true"
     ]
    }
   ],
   "source": [
    "// 获取字符串长度,这两个效果都是一样的\n",
    "if (snake1.length()==snake2.size()) cout<<\"true\"; else cout<<\"false\";"
   ]
  },
  {
   "cell_type": "code",
   "execution_count": 6,
   "id": "c3d4f995-21df-4c5c-862b-55fe4c898cc7",
   "metadata": {},
   "outputs": [
    {
     "name": "stdout",
     "output_type": "stream",
     "text": [
      "4"
     ]
    }
   ],
   "source": [
    "// 还可以进行字符串查找\n",
    "int where =snake1.find_first_of(\"a\");\n",
    "cout<<where;"
   ]
  },
  {
   "cell_type": "markdown",
   "id": "bdd237bb-f644-4d43-98ed-1f063c23bcd2",
   "metadata": {},
   "source": [
    "## 16.2 智能指针模板\n",
    "\n",
    "智能指针是行为类似于指针的类对象，但这种对象还有其他功能。本节介绍三个可帮助管理动态内存分配的智能指针模板。\n",
    "\n",
    "这三个智能指针模板（auto_ptr、unique_ptr和shared_ptr）都定义了\n",
    "类似指针的对象，可以将new获得（直接或间接）的地址赋给这种对\n",
    "象。当智能指针过期时，其析构函数将使用delete来释放内存。因此，\n",
    "如果将new返回的地址赋给这些对象，将无需记住稍后释放这些内存：\n",
    "在智能指针过期时，这些内存将自动被释放。"
   ]
  },
  {
   "cell_type": "code",
   "execution_count": 2,
   "id": "5d322a50-1d33-4d8a-8a93-dabdaeac1bb1",
   "metadata": {},
   "outputs": [],
   "source": [
    "// 比如我们定义一个智能指针()\n",
    "unique_ptr<double> pdu(new double);"
   ]
  },
  {
   "cell_type": "code",
   "execution_count": 3,
   "id": "eae99d76-f3f3-4a21-8575-b45341b22c19",
   "metadata": {},
   "outputs": [
    {
     "name": "stderr",
     "output_type": "stream",
     "text": [
      "input_line_10:2:2: warning: 'auto_ptr<int>' is deprecated [-Wdeprecated-declarations]\n",
      " auto_ptr<int> pd(new int);\n",
      " ^\n",
      "/opt/conda/bin/../lib/gcc/../../x86_64-conda-linux-gnu/include/c++/9.4.0/backward/auto_ptr.h:287:7: note: 'auto_ptr<int>' has been explicitly marked deprecated here\n",
      "    } _GLIBCXX_DEPRECATED;\n",
      "      ^\n",
      "/opt/conda/bin/../lib/gcc/../../x86_64-conda-linux-gnu/include/c++/9.4.0/x86_64-conda-linux-gnu/bits/c++config.h:87:46: note: expanded from macro '_GLIBCXX_DEPRECATED'\n",
      "# define _GLIBCXX_DEPRECATED __attribute__ ((__deprecated__))\n",
      "                                             ^\n"
     ]
    }
   ],
   "source": [
    "// 这个指针已经被弃用了，不推荐\n",
    "auto_ptr<int> pd(new int);"
   ]
  },
  {
   "cell_type": "code",
   "execution_count": 2,
   "id": "89f839f2-9b6b-47ed-b399-948cdbd5feb3",
   "metadata": {},
   "outputs": [],
   "source": [
    "// 这边定义了一个共享指针\n",
    "shared_ptr<double> pss(new double);"
   ]
  },
  {
   "cell_type": "code",
   "execution_count": 7,
   "id": "ccfaaac4-ac6c-4daf-9f8a-4a9ddcbaf85d",
   "metadata": {},
   "outputs": [
    {
     "name": "stdout",
     "output_type": "stream",
     "text": [
      "10.1"
     ]
    }
   ],
   "source": [
    "// 用法如下\n",
    "shared_ptr<double> a(new double(10.1));\n",
    "cout<<*a;"
   ]
  },
  {
   "cell_type": "markdown",
   "id": "1fe9ea4f-f5b7-4749-99f4-787d829036a2",
   "metadata": {},
   "source": [
    "应使用哪种智能指针呢？\n",
    "\n",
    "如果程序要使用多个指向同一个对象的指\n",
    "针，应选择shared_ptr。这样的情况包括：有一个指针数组，并使用一\n",
    "些辅助指针来标识特定的元素，如最大的元素和最小的元素；两个对象\n",
    "包含都指向第三个对象的指针；STL容器包含指针。很多STL算法都支\n",
    "持复制和赋值操作，这些操作可用于shared_ptr，但不能用于\n",
    "unique_ptr（编译器发出警告）和auto_ptr（行为不确定）。如果您的编\n",
    "译器没有提供shared_ptr，可使用Boost库提供的shared_ptr。\n",
    "\n",
    "\n",
    "如果程序不需要多个指向同一个对象的指针，则可使用unique_ptr。如果函数使用new分配内存，并返回指向该内存的指针，将\n",
    "其返回类型声明为unique_ptr是不错的选择。这样，所有权将转让给接\n",
    "受返回值的unique_ptr，而该智能指针将负责调用delete。可将unique_ptr\n",
    "存储到STL容器中，只要不调用将一个unique_ptr复制或赋给另一个的方\n",
    "法或算法（如sort( )）。"
   ]
  },
  {
   "cell_type": "markdown",
   "id": "643dfaae-c670-4a6b-b1a8-3215fe4e5d28",
   "metadata": {},
   "source": [
    "## 16.3 标准模板库"
   ]
  },
  {
   "cell_type": "code",
   "execution_count": 3,
   "id": "f55b98be-3647-42bf-9f13-87f88eeed928",
   "metadata": {},
   "outputs": [],
   "source": [
    "// 首先介绍一下vector矢量\n",
    "#include <vector>\n",
    "using namespace std;"
   ]
  },
  {
   "cell_type": "code",
   "execution_count": 2,
   "id": "b3d7d769-d5e9-4833-b9fe-79e6d853da28",
   "metadata": {},
   "outputs": [],
   "source": [
    "// 声明一个矢量\n",
    "vector<int> ratings(5);"
   ]
  },
  {
   "cell_type": "code",
   "execution_count": 10,
   "id": "4b723eac-70b5-4bf1-b85c-f0c5558e7f64",
   "metadata": {},
   "outputs": [
    {
     "name": "stdout",
     "output_type": "stream",
     "text": [
      "10"
     ]
    }
   ],
   "source": [
    "// 矢量可以直接访问\n",
    "ratings[0] = 10;\n",
    "cout<<ratings[0];"
   ]
  },
  {
   "cell_type": "code",
   "execution_count": 5,
   "id": "d6f221d1-5d36-4c21-bdac-9bcc3c2c01df",
   "metadata": {},
   "outputs": [
    {
     "data": {
      "text/plain": [
       "@0x7f93a259a048"
      ]
     },
     "execution_count": 5,
     "metadata": {},
     "output_type": "execute_result"
    }
   ],
   "source": [
    "// 容器提供了一些常用的函数\n",
    "vector<double> scores;\n",
    "// 声明一个迭代器\n",
    "vector<double>::iterator pd;\n",
    "pd = scores.begin(); // 获取容器的开头"
   ]
  },
  {
   "cell_type": "code",
   "execution_count": null,
   "id": "7bf0df9c-1d90-444b-b03a-11cf1012ca96",
   "metadata": {},
   "outputs": [],
   "source": [
    "// 给容器设置值\n",
    "*pd = 22.3;\n",
    "// 让这个指针指向下一个值\n",
    "++pd;"
   ]
  },
  {
   "cell_type": "code",
   "execution_count": 6,
   "id": "fe1cdf10-806a-4751-ac52-fb38743f77d7",
   "metadata": {},
   "outputs": [],
   "source": [
    "// 我们可以直接使用自动推导来简化\n",
    "auto pd = scores.begin();"
   ]
  },
  {
   "cell_type": "code",
   "execution_count": 7,
   "id": "633a3784-da1f-48c6-a352-8ee62e6d6b7d",
   "metadata": {},
   "outputs": [
    {
     "name": "stdout",
     "output_type": "stream",
     "text": [
      "11.2\n",
      "22.5\n",
      "45.8\n"
     ]
    }
   ],
   "source": [
    "// 我们可以使用下面这种方式来遍历容器\n",
    "vector<double> scores={11.2,22.5,45.8};\n",
    "for(pd=scores.begin();pd!=scores.end();pd++){\n",
    "    cout<<*pd<<endl;\n",
    "}"
   ]
  },
  {
   "cell_type": "code",
   "execution_count": 8,
   "id": "3d6d2879-57b9-4760-afe1-15c637b18bb5",
   "metadata": {},
   "outputs": [
    {
     "name": "stdout",
     "output_type": "stream",
     "text": [
      "23.2"
     ]
    }
   ],
   "source": [
    "// 可以使用push来给容器添加值\n",
    "vector<double> scores1;\n",
    "scores1.push_back(11.2);\n",
    "scores1.push_back(23.2);\n",
    "cout<<scores1[1];"
   ]
  },
  {
   "cell_type": "code",
   "execution_count": 13,
   "id": "3f80ba85-fd81-4b08-a50a-3bcbf1289d5d",
   "metadata": {},
   "outputs": [],
   "source": [
    "// 还有其他用法这里就不演示了"
   ]
  },
  {
   "cell_type": "code",
   "execution_count": 14,
   "id": "5b88dfd9-1195-45c7-9032-cef287dd085f",
   "metadata": {},
   "outputs": [
    {
     "name": "stdout",
     "output_type": "stream",
     "text": [
      "11.2\n",
      "22.5\n",
      "45.8\n"
     ]
    }
   ],
   "source": [
    "// 遍历矢量还有一个更简单的方法\n",
    "vector<double> scores={11.2,22.5,45.8};\n",
    "for(double a:scores){\n",
    "    cout<<a<<endl;\n",
    "}  "
   ]
  },
  {
   "cell_type": "markdown",
   "id": "91fabe32-6c53-465a-a514-098e4b0d195a",
   "metadata": {},
   "source": [
    "## 16.4 泛型编程"
   ]
  },
  {
   "cell_type": "code",
   "execution_count": null,
   "id": "2aa5dfc5-8650-4129-8933-03d8fcab5d7c",
   "metadata": {},
   "outputs": [],
   "source": [
    "// 实际上前面讲的iterator 和for循环都是属于泛型编程的范畴，这里面东西有很多"
   ]
  },
  {
   "cell_type": "markdown",
   "id": "d83eb075-ee30-4e69-b96a-f010e49983e1",
   "metadata": {},
   "source": [
    "## 16.5 函数对象"
   ]
  },
  {
   "cell_type": "code",
   "execution_count": null,
   "id": "c9d4f07c-1beb-4c9f-9659-60868ea3d001",
   "metadata": {},
   "outputs": [],
   "source": [
    "// 已看到1489"
   ]
  }
 ],
 "metadata": {
  "kernelspec": {
   "display_name": "C++17",
   "language": "C++17",
   "name": "xcpp17"
  },
  "language_info": {
   "codemirror_mode": "text/x-c++src",
   "file_extension": ".cpp",
   "mimetype": "text/x-c++src",
   "name": "c++",
   "version": "17"
  }
 },
 "nbformat": 4,
 "nbformat_minor": 5
}
