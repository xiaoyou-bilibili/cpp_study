{
 "cells": [
  {
   "cell_type": "code",
   "execution_count": 2,
   "id": "3e0fa6c1",
   "metadata": {},
   "outputs": [],
   "source": [
    "#include<iostream>\n",
    "using namespace std;"
   ]
  },
  {
   "cell_type": "markdown",
   "id": "ce716b87",
   "metadata": {},
   "source": [
    "## 6.1 if语句"
   ]
  },
  {
   "cell_type": "code",
   "execution_count": 3,
   "id": "7d82591a",
   "metadata": {},
   "outputs": [
    {
     "name": "stdout",
     "output_type": "stream",
     "text": [
      "1"
     ]
    }
   ],
   "source": [
    "int i =1;\n",
    "if(i==1){\n",
    "    cout<<i;\n",
    "}"
   ]
  },
  {
   "cell_type": "code",
   "execution_count": 4,
   "id": "cb0975a8",
   "metadata": {},
   "outputs": [
    {
     "name": "stdout",
     "output_type": "stream",
     "text": [
      "i is not 2"
     ]
    }
   ],
   "source": [
    "// ifelse语句\n",
    "if(i==2){\n",
    "    cout<<\"i is 2\";\n",
    "} else {\n",
    "    cout<<\"i is not 2\";\n",
    "}"
   ]
  },
  {
   "cell_type": "code",
   "execution_count": 5,
   "id": "2830036b",
   "metadata": {},
   "outputs": [
    {
     "name": "stdout",
     "output_type": "stream",
     "text": [
      "1"
     ]
    }
   ],
   "source": [
    "// 可以不加大括号，但是只能有一条\n",
    "if(i==1)\n",
    "    cout<<i;"
   ]
  },
  {
   "cell_type": "code",
   "execution_count": 6,
   "id": "f91cbcaa",
   "metadata": {},
   "outputs": [
    {
     "name": "stdout",
     "output_type": "stream",
     "text": [
      "i is 1"
     ]
    }
   ],
   "source": [
    "// if else if\n",
    "if(i==1){\n",
    "    cout<<\"i is 1\";\n",
    "} else if(i==2){\n",
    "    cout<<\"i is 2\";\n",
    "} else {\n",
    "    cout<<\"i is xx\";\n",
    "}"
   ]
  },
  {
   "cell_type": "markdown",
   "id": "d50136d1",
   "metadata": {},
   "source": [
    "## 6.2 逻辑表达式"
   ]
  },
  {
   "cell_type": "code",
   "execution_count": 7,
   "id": "d23d873b",
   "metadata": {},
   "outputs": [
    {
     "name": "stdout",
     "output_type": "stream",
     "text": [
      "范围内"
     ]
    }
   ],
   "source": [
    "// || 表示或\n",
    "// && 表示与\n",
    "// ! 表示非\n",
    "// 逻辑表达式的优先级低于关系运算符\n",
    "int x = 8;\n",
    "if(x>5 && x<10){\n",
    "    cout<<\"范围内\";\n",
    "}"
   ]
  },
  {
   "cell_type": "code",
   "execution_count": 8,
   "id": "4326b9a6",
   "metadata": {},
   "outputs": [],
   "source": [
    "// age >30 && age <45 || weight>30\n",
    "// 等价与 (age>30 && age<45) || weight>300"
   ]
  },
  {
   "cell_type": "code",
   "execution_count": 10,
   "id": "ff141f60",
   "metadata": {},
   "outputs": [
    {
     "name": "stdout",
     "output_type": "stream",
     "text": [
      "10"
     ]
    }
   ],
   "source": [
    "// 逻辑表达式在知道答案后会立即终止\n",
    "int i = 10;\n",
    "// 因为第一个为false所以后面不会再计算了\n",
    "i>10 && i++;\n",
    "cout<<i;"
   ]
  },
  {
   "cell_type": "markdown",
   "id": "ee353825",
   "metadata": {},
   "source": [
    "## 6.3 字符函数库 cctype"
   ]
  },
  {
   "cell_type": "code",
   "execution_count": 11,
   "id": "f3dcc6b0",
   "metadata": {},
   "outputs": [],
   "source": [
    "#include <cctype>"
   ]
  },
  {
   "cell_type": "code",
   "execution_count": 12,
   "id": "1f59832e",
   "metadata": {},
   "outputs": [
    {
     "name": "stdout",
     "output_type": "stream",
     "text": [
      "数字"
     ]
    }
   ],
   "source": [
    "// 判断一个字符串是否为数字\n",
    "if(isdigit('1')){\n",
    "    cout<<\"数字\";\n",
    "}"
   ]
  },
  {
   "cell_type": "markdown",
   "id": "4f456a2e",
   "metadata": {},
   "source": [
    "- isalnum() 如果参数是字母数字，即字母或数字，该函数返回true\n",
    "- isalpha() 如果参数是字母，该函数返回true\n",
    "- iscntrl( ) 如果参数是控制字符，该函数返回true\n",
    "- isdigit( ) 如果参数是数字（0～9），该函数返回true\n",
    "- isgraph() 如果参数是除空格之外的打印字符，该函数返回true\n",
    "- islower() 如果参数是小写字母，该函数返回true\n",
    "- isprint( ) 如果参数是打印字符（包括空格），该函数返回true\n",
    "- ispunct() 如果参数是标点符号，该函数返回true\n",
    "- isspace()如果参数是标准空白字符，如空格、进纸、换行符、回车、水平制表符或\n",
    "者垂直制表符，该函数返回true\n",
    "- isupper() 如果参数是大写字母，该函数返回true\n",
    "- isxdigit() 如果参数是十六进制数字，即0～9、a～f或A～F，该函数返回true\n",
    "- tolower() 如果参数是大写字符，则返回其小写，否则返回该参数\n",
    "- toupper() 如果参数是小写字符，则返回其大写，否则返回该参数"
   ]
  },
  {
   "cell_type": "markdown",
   "id": "07fb4346",
   "metadata": {},
   "source": [
    "## 6.4 ?: 运算符"
   ]
  },
  {
   "cell_type": "code",
   "execution_count": 13,
   "id": "3ede8687",
   "metadata": {},
   "outputs": [
    {
     "name": "stdout",
     "output_type": "stream",
     "text": [
      "1"
     ]
    }
   ],
   "source": [
    "// 这个其实就是3元表达式\n",
    "int a = 5>3?1:0;\n",
    "cout<<a;"
   ]
  },
  {
   "cell_type": "markdown",
   "id": "f2157fec",
   "metadata": {},
   "source": [
    "## 6.5 switch语句"
   ]
  },
  {
   "cell_type": "code",
   "execution_count": 15,
   "id": "9088eea2",
   "metadata": {},
   "outputs": [
    {
     "name": "stdout",
     "output_type": "stream",
     "text": [
      "no found"
     ]
    }
   ],
   "source": [
    "int i=3;\n",
    "switch(i){\n",
    "    case 1:cout<<\"1\";break;\n",
    "    case 2:cout<<\"2\";break;\n",
    "    default:cout<<\"no found\";\n",
    "}"
   ]
  },
  {
   "cell_type": "code",
   "execution_count": 17,
   "id": "ab5d73b3",
   "metadata": {},
   "outputs": [
    {
     "name": "stdout",
     "output_type": "stream",
     "text": [
      "2no found"
     ]
    }
   ],
   "source": [
    "// 不加break会往下执行\n",
    "int i=2;\n",
    "switch(i){\n",
    "    case 1:cout<<\"1\";\n",
    "    case 2:cout<<\"2\";\n",
    "    default:cout<<\"no found\";\n",
    "}"
   ]
  },
  {
   "cell_type": "code",
   "execution_count": 18,
   "id": "7abc79c4",
   "metadata": {},
   "outputs": [
    {
     "name": "stdout",
     "output_type": "stream",
     "text": [
      "origin"
     ]
    }
   ],
   "source": [
    "// 可以把枚举量用于标签\n",
    "enum {red,origin,yellow};\n",
    "int code = 1;\n",
    "switch(code){\n",
    "    case red:cout<<\"red\";break;\n",
    "    case origin:cout<<\"origin\";break;\n",
    "    case yellow:cout<<\"yellow\";break;\n",
    "}"
   ]
  },
  {
   "cell_type": "markdown",
   "id": "96b0fd54",
   "metadata": {},
   "source": [
    "## 6.6 break和continue"
   ]
  },
  {
   "cell_type": "code",
   "execution_count": 19,
   "id": "11ea2eff",
   "metadata": {},
   "outputs": [
    {
     "name": "stdout",
     "output_type": "stream",
     "text": [
      "0 2 4 6 8 "
     ]
    }
   ],
   "source": [
    "// break用于跳出循环，这里不演示了\n",
    "// continue用于跳过本轮循环\n",
    "for(int i=0;i<10;i++){\n",
    "    if(i%2 != 0){\n",
    "        continue;\n",
    "    }\n",
    "    cout<<i<<\" \";\n",
    "}"
   ]
  },
  {
   "cell_type": "code",
   "execution_count": 20,
   "id": "332ca58f",
   "metadata": {},
   "outputs": [
    {
     "name": "stdout",
     "output_type": "stream",
     "text": [
      "bb"
     ]
    }
   ],
   "source": [
    "// c++支持goto\n",
    "goto parise;\n",
    "cout<<\"aa\";\n",
    "parise: \n",
    "cout<<\"bb\";"
   ]
  },
  {
   "cell_type": "markdown",
   "id": "557a1edb",
   "metadata": {},
   "source": [
    "## 6.8 简单文件输入和输出"
   ]
  },
  {
   "cell_type": "code",
   "execution_count": 25,
   "id": "32ba12d9",
   "metadata": {},
   "outputs": [],
   "source": [
    "// 不作为重点，跳过"
   ]
  },
  {
   "cell_type": "code",
   "execution_count": null,
   "id": "c5afc6b1",
   "metadata": {},
   "outputs": [],
   "source": []
  }
 ],
 "metadata": {
  "kernelspec": {
   "display_name": "C++17",
   "language": "C++17",
   "name": "xcpp17"
  },
  "language_info": {
   "codemirror_mode": "text/x-c++src",
   "file_extension": ".cpp",
   "mimetype": "text/x-c++src",
   "name": "c++",
   "version": "17"
  }
 },
 "nbformat": 4,
 "nbformat_minor": 5
}
