{
 "cells": [
  {
   "cell_type": "code",
   "execution_count": 1,
   "id": "281e91ca",
   "metadata": {},
   "outputs": [],
   "source": [
    "#include <iostream>\n",
    "using namespace std;"
   ]
  },
  {
   "cell_type": "markdown",
   "id": "5a3a4f5d",
   "metadata": {},
   "source": [
    "## 8.1 内连函数\n",
    "\n",
    "内联函数的编译代码与其他程序代码“内联”起来了。也就是说，编译器将使用相应的函数代码替换函数\n",
    "调用。对于内联代码，程序无需跳到另一个位置处执行代码，再跳回\n",
    "来。因此，内联函数的运行速度比常规函数稍快，但代价是需要占用更\n",
    "多内存。"
   ]
  },
  {
   "cell_type": "code",
   "execution_count": 2,
   "id": "876ac993",
   "metadata": {},
   "outputs": [],
   "source": [
    "// 我们定义一个内联函数\n",
    "inline double square(double x){return x*x;}"
   ]
  },
  {
   "cell_type": "code",
   "execution_count": 5,
   "id": "5ae0c682",
   "metadata": {},
   "outputs": [
    {
     "name": "stdout",
     "output_type": "stream",
     "text": [
      "20.25"
     ]
    }
   ],
   "source": [
    "// 然后直接这样调用就可以了\n",
    "cout << square(4.5);"
   ]
  },
  {
   "cell_type": "code",
   "execution_count": 6,
   "id": "75107549",
   "metadata": {},
   "outputs": [],
   "source": [
    "// 旧版的c提供了宏的概念，实际上就是文本替换\n",
    "#define SQUARE(X) X*X"
   ]
  },
  {
   "cell_type": "code",
   "execution_count": 7,
   "id": "b849543e",
   "metadata": {},
   "outputs": [
    {
     "name": "stdout",
     "output_type": "stream",
     "text": [
      "25"
     ]
    }
   ],
   "source": [
    "cout<<SQUARE(5.0);"
   ]
  },
  {
   "cell_type": "markdown",
   "id": "8152f53f",
   "metadata": {},
   "source": [
    "## 8.2 引用变量\n",
    "\n",
    "引用是已定义的变量的别名（另一个名称）"
   ]
  },
  {
   "cell_type": "code",
   "execution_count": 10,
   "id": "5f1034ee",
   "metadata": {},
   "outputs": [
    {
     "name": "stdout",
     "output_type": "stream",
     "text": [
      "101|101\n",
      "0x7fb2c23f7050|0x7fb2c23f7050\n"
     ]
    }
   ],
   "source": [
    "int rats;\n",
    "// 下面我们来创建一个引用变量\n",
    "int & rodents = rats;\n",
    "rats = 101;\n",
    "// 这个引用变量的地址和上一个变量的地址都是一样的\n",
    "cout<<rats<<\"|\"<<rodents<<endl;\n",
    "cout<<&rats<<\"|\"<<&rodents<<endl;"
   ]
  },
  {
   "cell_type": "code",
   "execution_count": 12,
   "id": "62d152f3",
   "metadata": {},
   "outputs": [
    {
     "name": "stdout",
     "output_type": "stream",
     "text": [
      "10"
     ]
    }
   ],
   "source": [
    "// 引用经常作为函数的参数，默认c++是值传递，我们使用引用后就是引用传递了\n",
    "void func1(int &a){\n",
    "    a = 10;\n",
    "}\n",
    "int a = 1;\n",
    "func1(a);\n",
    "cout<<a;"
   ]
  },
  {
   "cell_type": "code",
   "execution_count": 14,
   "id": "802cdbfb",
   "metadata": {},
   "outputs": [
    {
     "name": "stdout",
     "output_type": "stream",
     "text": [
      "1"
     ]
    }
   ],
   "source": [
    "// 如果是普通情况就无法修改\n",
    "void func2(int a){\n",
    "    a = 11;\n",
    "}\n",
    "int a = 1;\n",
    "func2(a);\n",
    "cout<<a;"
   ]
  },
  {
   "cell_type": "code",
   "execution_count": 16,
   "id": "b0e49afb",
   "metadata": {},
   "outputs": [
    {
     "name": "stdout",
     "output_type": "stream",
     "text": [
      "12"
     ]
    }
   ],
   "source": [
    "// 当然也可以通过指针来实现\n",
    "void func3(int *a){\n",
    "    *a = 12;\n",
    "}\n",
    "int a =1;\n",
    "func3(&a);\n",
    "cout<<a;"
   ]
  },
  {
   "cell_type": "code",
   "execution_count": 17,
   "id": "7e95cf3f",
   "metadata": {},
   "outputs": [
    {
     "name": "stderr",
     "output_type": "stream",
     "text": [
      "\u001b[1minput_line_24:3:7: \u001b[0m\u001b[0;1;31merror: \u001b[0m\u001b[1mcannot assign to variable 'a' with const-qualified type 'const int &'\u001b[0m\n",
      "    a = 10;\n",
      "\u001b[0;1;32m    ~ ^\n",
      "\u001b[0m\u001b[1minput_line_24:2:23: \u001b[0m\u001b[0;1;30mnote: \u001b[0mvariable 'a' declared const here\u001b[0m\n",
      "void func4(const int &a){\n",
      "\u001b[0;1;32m           ~~~~~~~~~~~^\n",
      "\u001b[0m"
     ]
    },
    {
     "ename": "Interpreter Error",
     "evalue": "",
     "output_type": "error",
     "traceback": [
      "Interpreter Error: "
     ]
    }
   ],
   "source": [
    "// 使用引用会成修改值的问题，如果不想被修改可以这样\n",
    "void func4(const int &a){\n",
    "    // 我们修改了值，程序会报错\n",
    "    a = 10;\n",
    "}\n",
    "int a =1;\n",
    "func4(1);"
   ]
  },
  {
   "cell_type": "code",
   "execution_count": 18,
   "id": "04516fba",
   "metadata": {},
   "outputs": [
    {
     "name": "stderr",
     "output_type": "stream",
     "text": [
      "\u001b[1minput_line_25:5:1: \u001b[0m\u001b[0;1;31merror: \u001b[0m\u001b[1mno matching function for call to 'func5'\u001b[0m\n",
      "func5(a+1);\n",
      "\u001b[0;1;32m^~~~~\n",
      "\u001b[0m\u001b[1minput_line_25:2:6: \u001b[0m\u001b[0;1;30mnote: \u001b[0mcandidate function not viable: expects an l-value for 1st argument\u001b[0m\n",
      "void func5(int &a){}\n",
      "\u001b[0;1;32m     ^\n",
      "\u001b[0m"
     ]
    },
    {
     "ename": "Interpreter Error",
     "evalue": "",
     "output_type": "error",
     "traceback": [
      "Interpreter Error: "
     ]
    }
   ],
   "source": [
    "// 引用变量要求更加严格\n",
    "void func5(int &a){}\n",
    "int a = 1;\n",
    "// 这个会报错，因为我们的a+1不是变量，但是如果不是引用就没这个问题\n",
    "func5(a+1);"
   ]
  },
  {
   "cell_type": "code",
   "execution_count": 19,
   "id": "54177620",
   "metadata": {},
   "outputs": [
    {
     "name": "stdout",
     "output_type": "stream",
     "text": [
      "6"
     ]
    }
   ],
   "source": [
    "// 右值引用\n",
    "int &&a = std::sqrt(36.00);\n",
    "cout<<a;"
   ]
  },
  {
   "cell_type": "code",
   "execution_count": 22,
   "id": "3520e386",
   "metadata": {},
   "outputs": [
    {
     "name": "stdout",
     "output_type": "stream",
     "text": [
      "15|48.5\n",
      "0x7fb2c23f7098|0x7fb2c23f7090"
     ]
    }
   ],
   "source": [
    "// 我们可以看一下引用变量和右值引用的区别\n",
    "double j=15.0;\n",
    "double && jref = 2.0*j + 18.5;\n",
    "cout<<j<<\"|\"<<jref<<endl;\n",
    "cout<<&j<<\"|\"<<&jref;"
   ]
  },
  {
   "cell_type": "code",
   "execution_count": 23,
   "id": "66daba07",
   "metadata": {},
   "outputs": [
    {
     "name": "stderr",
     "output_type": "stream",
     "text": [
      "\u001b[1minput_line_30:2:10: \u001b[0m\u001b[0;1;31merror: \u001b[0m\u001b[1mnon-const lvalue reference to type 'double' cannot bind to a temporary of type 'double'\u001b[0m\n",
      " double &jref = 2.0*j + 18.5;\n",
      "\u001b[0;1;32m         ^      ~~~~~~~~~~~~\n",
      "\u001b[0m"
     ]
    },
    {
     "ename": "Interpreter Error",
     "evalue": "",
     "output_type": "error",
     "traceback": [
      "Interpreter Error: "
     ]
    }
   ],
   "source": [
    "// 左值引用不能这样赋值\n",
    "double &jref = 2.0*j + 18.5;"
   ]
  },
  {
   "cell_type": "markdown",
   "id": "ace401ee",
   "metadata": {},
   "source": [
    "新增右值引用的主要目的是，让库设计人员能够提供有些操作的更\n",
    "有效实现。"
   ]
  },
  {
   "cell_type": "code",
   "execution_count": null,
   "id": "44828ace",
   "metadata": {},
   "outputs": [],
   "source": [
    "// 引用非常适合引入结构体和类\n",
    "// 注意返回引用不要返回临时变量，可能会存在问题，因为函数里面的临时变量是存在栈上面的\n",
    "const free &clone(free &ft){\n",
    "    free *pt;\n",
    "    *pt=ft;\n",
    "    return *pt;\n",
    "}"
   ]
  },
  {
   "cell_type": "markdown",
   "id": "c096a240",
   "metadata": {},
   "source": [
    "使用引用参数的主要原因有两个。\n",
    "\n",
    "- 程序员能够修改调用函数中的数据对象。\n",
    "\n",
    "- 通过传递引用而不是整个数据对象，可以提高程序的运行速度。\n",
    "\n",
    "什么时候应使用引用、什么时候应使\n",
    "用指针呢？什么时候应按值传递呢？下面是一些指导原则\n",
    "\n",
    "对于使用传递的值而不作修改的函数。\n",
    "- 如果数据对象很小，如内置数据类型或小型结构，则按值传递。\n",
    "- 如果数据对象是数组，则使用指针，因为这是唯一的选择，并将指\n",
    "针声明为指向const的指针。\n",
    "- 如果数据对象是较大的结构，则使用const指针或const引用，以提\n",
    "高程序的效率。这样可以节省复制结构所需的时间和空间。\n",
    "- 如果数据对象是类对象，则使用const引用。类设计的语义常常要求\n",
    "使用引用，这是C++新增这项特性的主要原因。因此，传递类对象\n",
    "参数的标准方式是按引用传递。\n",
    "\n",
    "对于修改调用函数中数据的函数：\n",
    "\n",
    "- 如果数据对象是内置数据类型，则使用指针。如果看到诸如\n",
    "fixit（&x）这样的代码（其中x是int），则很明显，该函数将修改\n",
    "x。\n",
    "- 如果数据对象是数组，则只能使用指针。\n",
    "- 如果数据对象是结构，则使用引用或指针。\n",
    "- 如果数据对象是类对象，则使用引用。"
   ]
  },
  {
   "cell_type": "markdown",
   "id": "465a1dc9",
   "metadata": {},
   "source": [
    "## 8.3 默认参数"
   ]
  },
  {
   "cell_type": "code",
   "execution_count": 24,
   "id": "2483c0cc",
   "metadata": {},
   "outputs": [
    {
     "name": "stdout",
     "output_type": "stream",
     "text": [
      "2\n",
      "10\n"
     ]
    }
   ],
   "source": [
    "// 我们可以给函数传递默认值，如果不传就会使用默认值\n",
    "void sum(int name =10){\n",
    "    cout<<name<<endl;\n",
    "}\n",
    "sum(2);\n",
    "sum();"
   ]
  },
  {
   "cell_type": "code",
   "execution_count": 25,
   "id": "530c7aa3",
   "metadata": {},
   "outputs": [
    {
     "name": "stderr",
     "output_type": "stream",
     "text": [
      "\u001b[1minput_line_32:6:29: \u001b[0m\u001b[0;1;31merror: \u001b[0m\u001b[1mmissing default argument on parameter 'j'\u001b[0m\n",
      "int func2(int n,int m=4,int j);\n",
      "\u001b[0;1;32m                            ^\n",
      "\u001b[0m"
     ]
    },
    {
     "ename": "Interpreter Error",
     "evalue": "",
     "output_type": "error",
     "traceback": [
      "Interpreter Error: "
     ]
    }
   ],
   "source": [
    "// 要为某个参数设置默认值，则必须为它右边的所有参数提供默认值\n",
    "// 这个可以\n",
    "int func1(int n,int m=4,int j=5);\n",
    "// 但是下面这个不行\n",
    "int func2(int n,int m=4,int j);"
   ]
  },
  {
   "cell_type": "code",
   "execution_count": 32,
   "id": "eb3a560d",
   "metadata": {},
   "outputs": [],
   "source": [
    "// 实际上我们可以只给函数原型定义默认值，函数定义的时候不用加\n",
    "void func3(int n=1);"
   ]
  },
  {
   "cell_type": "markdown",
   "id": "55995962",
   "metadata": {},
   "source": [
    "## 8.4函数重载"
   ]
  },
  {
   "cell_type": "code",
   "execution_count": 8,
   "id": "a75211a1",
   "metadata": {},
   "outputs": [],
   "source": [
    "void print(int a){\n",
    "    cout<<\"int:\"<<a<<endl;\n",
    "}"
   ]
  },
  {
   "cell_type": "code",
   "execution_count": 9,
   "id": "6137046a",
   "metadata": {},
   "outputs": [],
   "source": [
    "void print(float a){\n",
    "    cout<<\"float:\"<<a<<endl;\n",
    "}"
   ]
  },
  {
   "cell_type": "code",
   "execution_count": 11,
   "id": "d57e1939",
   "metadata": {},
   "outputs": [
    {
     "name": "stdout",
     "output_type": "stream",
     "text": [
      "int:1\n",
      "float:2\n"
     ]
    }
   ],
   "source": [
    "int a =1;\n",
    "float b=2;\n",
    "print(a);\n",
    "print(b);"
   ]
  },
  {
   "cell_type": "code",
   "execution_count": 13,
   "id": "7fccb06c",
   "metadata": {},
   "outputs": [],
   "source": [
    "//  函数匹配时，不会区分const和非const变量，因为把非const赋值给const变量是合法的，反之不合法"
   ]
  },
  {
   "cell_type": "markdown",
   "id": "0ce1e51f",
   "metadata": {},
   "source": [
    "## 8.5 函数模板\n",
    "\n",
    "函数模板是通用的函数描述，也就是说，它们使用泛型来定义函数，其中的\n",
    "泛型可用具体的类型（如int或double）替换。通过将类型作为参数传递\n",
    "给模板，可使编译器生成该类型的函数。由于模板允许以泛型（而不是\n",
    "具体类型）的方式编写程序，因此有时也被称为通用编程。"
   ]
  },
  {
   "cell_type": "code",
   "execution_count": 2,
   "id": "7ac0a337",
   "metadata": {},
   "outputs": [],
   "source": [
    "// 下面我们定义一个模板，多个参数可以用逗号隔开\n",
    "template <class T>\n",
    "void swap1(T &a,T &b){\n",
    "    T tmp;\n",
    "    tmp = a;\n",
    "    a=b;\n",
    "    b=tmp;\n",
    "}"
   ]
  },
  {
   "cell_type": "code",
   "execution_count": 3,
   "id": "415b98e5",
   "metadata": {},
   "outputs": [],
   "source": [
    "// 下面这个和上面是一样的\n",
    "template <typename T>\n",
    "void swap1(T &a,T &b){\n",
    "    T tmp;\n",
    "    tmp = a;\n",
    "    a=b;\n",
    "    b=tmp;\n",
    "}"
   ]
  },
  {
   "cell_type": "code",
   "execution_count": 4,
   "id": "619e4ae0",
   "metadata": {},
   "outputs": [
    {
     "name": "stdout",
     "output_type": "stream",
     "text": [
      "2|1"
     ]
    }
   ],
   "source": [
    "// 我们就可以使用任意类型去进行模板替换了\n",
    "int a=1,b=2;\n",
    "swap1(a,b);\n",
    "cout<<a<<\"|\"<<b;"
   ]
  },
  {
   "cell_type": "code",
   "execution_count": 5,
   "id": "dc92d480",
   "metadata": {},
   "outputs": [
    {
     "name": "stdout",
     "output_type": "stream",
     "text": [
      "2.2|1.1"
     ]
    }
   ],
   "source": [
    "float b=1.1,c=2.2;\n",
    "swap1(b,c);\n",
    "cout<<b<<\"|\"<<c;"
   ]
  },
  {
   "cell_type": "markdown",
   "id": "b9fdaf06",
   "metadata": {},
   "source": [
    "注意，函数模板不能缩短可执行程序。最终仍\n",
    "将由两个独立的函数定义，就像以手工方式定义了这些函数一样。最终\n",
    "的代码不包含任何模板，而只包含了为程序生成的实际函数。使用模板\n",
    "的好处是，它使生成多个函数定义更简单、更可靠。"
   ]
  },
  {
   "cell_type": "code",
   "execution_count": 6,
   "id": "3e124a06",
   "metadata": {},
   "outputs": [],
   "source": [
    "// 模板也支持重载，我们可以定义两个一样的函数，并且使用不同的模板。这里就不演示了"
   ]
  },
  {
   "cell_type": "code",
   "execution_count": 7,
   "id": "515d1834",
   "metadata": {},
   "outputs": [],
   "source": [
    "// 模板具有一定的局限性，可能无法处理某些类型，比如下面这个就无法处理数组类型\n",
    "template <class T>\n",
    "bool f(T a,T b){\n",
    "    return a>b;\n",
    "}"
   ]
  },
  {
   "cell_type": "code",
   "execution_count": 7,
   "id": "4bddd7c5",
   "metadata": {},
   "outputs": [],
   "source": [
    "// 我们可以简写一下\n",
    "template <class T>\n",
    "T func2(T a,T b){\n",
    "    return a+b;\n",
    "}"
   ]
  },
  {
   "cell_type": "code",
   "execution_count": 9,
   "id": "2e80e2a6",
   "metadata": {},
   "outputs": [
    {
     "name": "stdout",
     "output_type": "stream",
     "text": [
      "16.2"
     ]
    }
   ],
   "source": [
    "int m =6;\n",
    "double x=10.2;\n",
    "// 如果两个类型不同，那么我们可以使用<double>强制转换一下数据类型\n",
    "// 注意参数不能为引用变量，要不然会出问题\n",
    "cout<<func2<double>(x,m);"
   ]
  },
  {
   "cell_type": "code",
   "execution_count": 10,
   "id": "ba30679d",
   "metadata": {},
   "outputs": [
    {
     "name": "stdout",
     "output_type": "stream",
     "text": [
      "10"
     ]
    }
   ],
   "source": [
    "// c++提供了decltype来表示表示未知类型\n",
    "int x;\n",
    "// 这样y的类型就和x是一样的\n",
    "decltype(x) y;\n",
    "y = 10;\n",
    "cout<<y;"
   ]
  },
  {
   "cell_type": "code",
   "execution_count": 11,
   "id": "6b88e710",
   "metadata": {},
   "outputs": [
    {
     "name": "stdout",
     "output_type": "stream",
     "text": [
      "3"
     ]
    }
   ],
   "source": [
    "// 也可以用于表达式\n",
    "int x=1,y=2;\n",
    "decltype(x+y) xpy = x+y;\n",
    "cout<<xpy;"
   ]
  },
  {
   "cell_type": "code",
   "execution_count": 13,
   "id": "5c3465ba",
   "metadata": {},
   "outputs": [
    {
     "name": "stdout",
     "output_type": "stream",
     "text": [
      "3.05"
     ]
    }
   ],
   "source": [
    "// 这样就可以支持不同类型相加了\n",
    "int x=1;\n",
    "double y=2.05;\n",
    "decltype(x+y) xpy = x+y;\n",
    "cout<<xpy;"
   ]
  },
  {
   "cell_type": "code",
   "execution_count": 17,
   "id": "70f25e1a",
   "metadata": {},
   "outputs": [
    {
     "name": "stdout",
     "output_type": "stream",
     "text": [
      "10"
     ]
    }
   ],
   "source": [
    "// 可以使用指针类型或者引用类型\n",
    "int *a;\n",
    "decltype(a) y;\n",
    "int c=10;\n",
    "y = &c;\n",
    "cout<<*y;"
   ]
  },
  {
   "cell_type": "code",
   "execution_count": 16,
   "id": "aac8d67b",
   "metadata": {},
   "outputs": [
    {
     "name": "stdout",
     "output_type": "stream",
     "text": [
      "110"
     ]
    }
   ],
   "source": [
    "// 我们也可以传入一个函数，然后就会把函数的返回值当做类型\n",
    "int func1(){\n",
    "    return 0;\n",
    "}\n",
    "decltype (func1()) m;\n",
    "m = 110;\n",
    "cout<<m;"
   ]
  },
  {
   "cell_type": "code",
   "execution_count": 18,
   "id": "083c3485",
   "metadata": {},
   "outputs": [
    {
     "name": "stdout",
     "output_type": "stream",
     "text": [
      "1"
     ]
    }
   ],
   "source": [
    "// 也可以直接把对应的值传进去\n",
    "decltype(10) y;\n",
    "y=1;\n",
    "cout<<y;"
   ]
  },
  {
   "cell_type": "code",
   "execution_count": 20,
   "id": "7969e8fe",
   "metadata": {},
   "outputs": [],
   "source": [
    "// 为了解决模板函数返回值类型无法确定的问题，c++提供了后置返回类型\n",
    "template<class T1,class T2>\n",
    "auto gt(T1 x,T2 y)->decltype(x+y){\n",
    "    return x+y;\n",
    "}"
   ]
  },
  {
   "cell_type": "code",
   "execution_count": 21,
   "id": "5bf733c5",
   "metadata": {},
   "outputs": [
    {
     "name": "stdout",
     "output_type": "stream",
     "text": [
      "20.256"
     ]
    }
   ],
   "source": [
    "// 这样我们就可以进行下面这种不同类型相加的操作了\n",
    "int a = 10;\n",
    "double b = 10.256;\n",
    "cout<<gt(a,b);"
   ]
  },
  {
   "cell_type": "code",
   "execution_count": null,
   "id": "f9868ca0",
   "metadata": {},
   "outputs": [],
   "source": []
  }
 ],
 "metadata": {
  "kernelspec": {
   "display_name": "C++17",
   "language": "C++17",
   "name": "xcpp17"
  },
  "language_info": {
   "codemirror_mode": "text/x-c++src",
   "file_extension": ".cpp",
   "mimetype": "text/x-c++src",
   "name": "c++",
   "version": "17"
  }
 },
 "nbformat": 4,
 "nbformat_minor": 5
}
