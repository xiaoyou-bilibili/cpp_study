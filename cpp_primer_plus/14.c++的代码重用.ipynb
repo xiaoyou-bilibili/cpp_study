{
 "cells": [
  {
   "cell_type": "code",
   "execution_count": 1,
   "id": "97bd7a83",
   "metadata": {},
   "outputs": [],
   "source": [
    "#include <iostream>\n",
    "using namespace std;"
   ]
  },
  {
   "cell_type": "markdown",
   "id": "e6922288",
   "metadata": {},
   "source": [
    "## 14.1 包括对象成员的类\n",
    "\n",
    "这块都是实例，跳过"
   ]
  },
  {
   "cell_type": "code",
   "execution_count": 8,
   "id": "df948bf8",
   "metadata": {},
   "outputs": [],
   "source": [
    "// 私有变量可以这样初始化\n",
    "class person{\n",
    "    private:\n",
    "        int age;\n",
    "    public:\n",
    "        person(int a):age(a){}\n",
    "        void show(){cout<<age;}\n",
    "}"
   ]
  },
  {
   "cell_type": "code",
   "execution_count": 10,
   "id": "505b0715",
   "metadata": {},
   "outputs": [
    {
     "name": "stdout",
     "output_type": "stream",
     "text": [
      "120"
     ]
    }
   ],
   "source": [
    "person a(120);\n",
    "a.show();"
   ]
  },
  {
   "cell_type": "markdown",
   "id": "e1b1acf1",
   "metadata": {},
   "source": [
    "## 14.2 私有继承"
   ]
  },
  {
   "cell_type": "code",
   "execution_count": 3,
   "id": "b7fb8780",
   "metadata": {},
   "outputs": [],
   "source": [
    "// 前面我们演示的都是公有继承，下面演示一下私有继承\n",
    "class person{\n",
    "    private:\n",
    "        int age;\n",
    "    public:\n",
    "        person(int a){age=a;}\n",
    "        void show(){cout<<age;}\n",
    "}"
   ]
  },
  {
   "cell_type": "code",
   "execution_count": 4,
   "id": "975f84ea",
   "metadata": {},
   "outputs": [],
   "source": [
    "// 首先是公有继承\n",
    "class Child1:public person{\n",
    "    public:\n",
    "        Child1(int age):person(age){}\n",
    "}"
   ]
  },
  {
   "cell_type": "code",
   "execution_count": 5,
   "id": "0e2776e1",
   "metadata": {},
   "outputs": [
    {
     "name": "stdout",
     "output_type": "stream",
     "text": [
      "10"
     ]
    }
   ],
   "source": [
    "Child1 a(10);\n",
    "a.show();"
   ]
  },
  {
   "cell_type": "code",
   "execution_count": 6,
   "id": "a975c409",
   "metadata": {},
   "outputs": [],
   "source": [
    "// 下面演示一下私有继承\n",
    "class Child2:private person{\n",
    "    public:\n",
    "        Child2(int age):person(age){}\n",
    "}"
   ]
  },
  {
   "cell_type": "code",
   "execution_count": 7,
   "id": "a96c5efa",
   "metadata": {},
   "outputs": [
    {
     "name": "stderr",
     "output_type": "stream",
     "text": [
      "\u001b[1minput_line_14:3:3: \u001b[0m\u001b[0;1;31merror: \u001b[0m\u001b[1m'show' is a private member of '__cling_N53::person'\u001b[0m\n",
      "b.show();\n",
      "\u001b[0;1;32m  ^\n",
      "\u001b[0m\u001b[1minput_line_13:2:14: \u001b[0m\u001b[0;1;30mnote: \u001b[0mconstrained by private inheritance here\u001b[0m\n",
      "class Child2:private person{\n",
      "\u001b[0;1;32m             ^~~~~~~~~~~~~~\n",
      "\u001b[0m\u001b[1minput_line_10:7:14: \u001b[0m\u001b[0;1;30mnote: \u001b[0mmember is declared here\u001b[0m\n",
      "        void show(){cout<<age;}\n",
      "\u001b[0;1;32m             ^\n",
      "\u001b[0m\u001b[1minput_line_14:3:1: \u001b[0m\u001b[0;1;31merror: \u001b[0m\u001b[1mcannot cast '__cling_N56::Child2' to its private base class '__cling_N53::person'\u001b[0m\n",
      "b.show();\n",
      "\u001b[0;1;32m^\n",
      "\u001b[0m\u001b[1minput_line_13:2:14: \u001b[0m\u001b[0;1;30mnote: \u001b[0mdeclared private here\u001b[0m\n",
      "class Child2:private person{\n",
      "\u001b[0;1;32m             ^~~~~~~~~~~~~~\n",
      "\u001b[0m"
     ]
    },
    {
     "ename": "Interpreter Error",
     "evalue": "",
     "output_type": "error",
     "traceback": [
      "Interpreter Error: "
     ]
    }
   ],
   "source": [
    "// 下面这里会报错\n",
    "Child2 b(10);\n",
    "b.show();"
   ]
  },
  {
   "cell_type": "code",
   "execution_count": 11,
   "id": "2e6447a7",
   "metadata": {},
   "outputs": [],
   "source": [
    "// 除了私有继承，还有一个保护继承 \n",
    "// 使用保护继承时，基类的公有成员和保护成员都将成为派生类的保护成员。"
   ]
  },
  {
   "cell_type": "code",
   "execution_count": 15,
   "id": "ed914395",
   "metadata": {},
   "outputs": [],
   "source": [
    "// 我们可以使用using把私有继承后的某些功函数给暴露出来\n",
    "class Child3:private person{\n",
    "    public:\n",
    "        Child3(int age):person(age){};\n",
    "        using person::show;\n",
    "}"
   ]
  },
  {
   "cell_type": "code",
   "execution_count": 16,
   "id": "2b2af8f2",
   "metadata": {},
   "outputs": [
    {
     "name": "stdout",
     "output_type": "stream",
     "text": [
      "10"
     ]
    }
   ],
   "source": [
    "// 这样我们就可以使用私有方法了\n",
    "Child3 c(10);\n",
    "c.show();"
   ]
  },
  {
   "cell_type": "markdown",
   "id": "f48d318f",
   "metadata": {},
   "source": [
    "## 14.3 多重继承"
   ]
  },
  {
   "cell_type": "code",
   "execution_count": null,
   "id": "eff9bc46",
   "metadata": {},
   "outputs": [],
   "source": [
    "// 多重继承实际上就是有多个直接基类的类，这里注意每个基类都得加public关键词，要不然编译器默认为私有派生\n",
    "class Child4:public person,public Child3{}"
   ]
  },
  {
   "cell_type": "markdown",
   "id": "e1f31fcb",
   "metadata": {},
   "source": [
    "## 14.4 类模板"
   ]
  },
  {
   "cell_type": "code",
   "execution_count": 22,
   "id": "0c751232",
   "metadata": {},
   "outputs": [],
   "source": [
    "// 类支持添加模板，下面我们给一个类添加模板方法\n",
    "template <class Type>\n",
    "class person{\n",
    "    private:\n",
    "        Type age;\n",
    "    public:\n",
    "        person(Type a);\n",
    "        void show(){cout<<age;}\n",
    "};"
   ]
  },
  {
   "cell_type": "code",
   "execution_count": 25,
   "id": "69b1d942",
   "metadata": {},
   "outputs": [],
   "source": [
    "// 我们可以这样来实现类里面的模板方法\n",
    "template <class Type>\n",
    "person<Type>::person(Type a){age=a;}"
   ]
  },
  {
   "cell_type": "code",
   "execution_count": 26,
   "id": "2c4ebebe",
   "metadata": {},
   "outputs": [
    {
     "name": "stdout",
     "output_type": "stream",
     "text": [
      "10"
     ]
    }
   ],
   "source": [
    "// 然后我们就可以使用模板类了，这里注意，必须要显式的提供所需的类型，这个和模板函数不一样\n",
    "person<int> a(10);\n",
    "a.show();"
   ]
  },
  {
   "cell_type": "code",
   "execution_count": 27,
   "id": "fc32fa29",
   "metadata": {},
   "outputs": [
    {
     "name": "stdout",
     "output_type": "stream",
     "text": [
      "10.34"
     ]
    }
   ],
   "source": [
    "// 这样我们的类就支持任意类型了\n",
    "person<double> a(10.34);\n",
    "a.show();"
   ]
  },
  {
   "cell_type": "code",
   "execution_count": 32,
   "id": "600c3049",
   "metadata": {},
   "outputs": [],
   "source": [
    "// 类模板还支持下面这种形式,可以直接传入类型和具体值\n",
    "template <class Type,int n>\n",
    "class person{\n",
    "    private:\n",
    "        Type age;\n",
    "        int num;\n",
    "    public:\n",
    "        person(Type a);\n",
    "        void show(){cout<<age<<\"|\"<<num;}\n",
    "};"
   ]
  },
  {
   "cell_type": "code",
   "execution_count": 33,
   "id": "9eb4e675",
   "metadata": {},
   "outputs": [],
   "source": [
    "template <class Type,int n>\n",
    "person<Type,n>::person(Type a){age=a;num=n;}"
   ]
  },
  {
   "cell_type": "code",
   "execution_count": 36,
   "id": "a1f9a44e",
   "metadata": {},
   "outputs": [
    {
     "name": "stdout",
     "output_type": "stream",
     "text": [
      "10.34|10"
     ]
    }
   ],
   "source": [
    "person<double,10> a(10.34);\n",
    "a.show();"
   ]
  },
  {
   "cell_type": "code",
   "execution_count": 2,
   "id": "2ee3aa19",
   "metadata": {},
   "outputs": [],
   "source": [
    "// 类模板有一个默认参数，如果不传就会使用这个默认的参数\n",
    "template <class Type=int>\n",
    "class person2{\n",
    "    private:\n",
    "        Type age;\n",
    "    public:\n",
    "        person2(Type a){age=a;};\n",
    "        void show(){cout<<age;}\n",
    "};"
   ]
  },
  {
   "cell_type": "code",
   "execution_count": 3,
   "id": "b1eb6e45",
   "metadata": {},
   "outputs": [
    {
     "name": "stdout",
     "output_type": "stream",
     "text": [
      "10"
     ]
    }
   ],
   "source": [
    "// 这样我们就不需要手动指定类型了\n",
    "person2 b(10);\n",
    "b.show();"
   ]
  },
  {
   "cell_type": "code",
   "execution_count": null,
   "id": "5e48da56",
   "metadata": {},
   "outputs": [],
   "source": []
  }
 ],
 "metadata": {
  "kernelspec": {
   "display_name": "C++17",
   "language": "C++17",
   "name": "xcpp17"
  },
  "language_info": {
   "codemirror_mode": "text/x-c++src",
   "file_extension": ".cpp",
   "mimetype": "text/x-c++src",
   "name": "c++",
   "version": "17"
  }
 },
 "nbformat": 4,
 "nbformat_minor": 5
}
