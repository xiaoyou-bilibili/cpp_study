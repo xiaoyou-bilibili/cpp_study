{
 "cells": [
  {
   "cell_type": "markdown",
   "id": "750f5fa6",
   "metadata": {},
   "source": [
    "## 5.1 for循环"
   ]
  },
  {
   "cell_type": "code",
   "execution_count": 2,
   "id": "e96c618c",
   "metadata": {},
   "outputs": [],
   "source": [
    "#include <iostream>\n",
    "#include <string>\n",
    "#include <cstring>\n",
    "using namespace std;"
   ]
  },
  {
   "cell_type": "code",
   "execution_count": 2,
   "id": "9110ba11",
   "metadata": {},
   "outputs": [
    {
     "name": "stdout",
     "output_type": "stream",
     "text": [
      "c++loop\n",
      "c++loop\n",
      "c++loop\n",
      "c++loop\n",
      "c++loop\n"
     ]
    }
   ],
   "source": [
    "int i;\n",
    "for(i=0;i<5;i++){\n",
    "    cout<<\"c++loop\\n\";\n",
    "}"
   ]
  },
  {
   "cell_type": "code",
   "execution_count": 3,
   "id": "299f8e81",
   "metadata": {
    "scrolled": true
   },
   "outputs": [
    {
     "name": "stdout",
     "output_type": "stream",
     "text": [
      "10:loop\n",
      "9:loop\n",
      "8:loop\n",
      "7:loop\n",
      "6:loop\n",
      "5:loop\n",
      "4:loop\n",
      "3:loop\n",
      "2:loop\n",
      "1:loop\n"
     ]
    }
   ],
   "source": [
    "// 可加可减\n",
    "int i;\n",
    "for(i=10;i;i--){\n",
    "    cout<<i<<\":loop\\n\";\n",
    "}"
   ]
  },
  {
   "cell_type": "code",
   "execution_count": 7,
   "id": "99eb8ecd",
   "metadata": {},
   "outputs": [
    {
     "name": "stdout",
     "output_type": "stream",
     "text": [
      "5:loop\n",
      "4:loop\n",
      "3:loop\n",
      "2:loop\n",
      "1:loop\n",
      "end"
     ]
    }
   ],
   "source": [
    "// 可以不加大括号，但是只能作用一行\n",
    "for(int i=5;i;i--)\n",
    "    cout<<i<<\":loop\\n\";\n",
    "    cout<<\"end\";"
   ]
  },
  {
   "cell_type": "code",
   "execution_count": 8,
   "id": "99fc9abf",
   "metadata": {},
   "outputs": [
    {
     "name": "stdout",
     "output_type": "stream",
     "text": [
      "0\n",
      "2\n",
      "4\n",
      "6\n",
      "8\n"
     ]
    }
   ],
   "source": [
    "// 步长可以修改\n",
    "for(int i=0;i<10;i+=2)\n",
    "    cout<<i<<\"\\n\";"
   ]
  },
  {
   "cell_type": "code",
   "execution_count": 14,
   "id": "1f53fd61",
   "metadata": {},
   "outputs": [
    {
     "name": "stdout",
     "output_type": "stream",
     "text": [
      "h|e|l|l|o|"
     ]
    }
   ],
   "source": [
    "// 使用for循环来访问字符串\n",
    "string a = \"hello\";\n",
    "for(int i=0;i<a.size();i++)\n",
    "    cout<<a[i]<<\"|\""
   ]
  },
  {
   "cell_type": "code",
   "execution_count": 15,
   "id": "ed3ba099",
   "metadata": {},
   "outputs": [
    {
     "name": "stdout",
     "output_type": "stream",
     "text": [
      "20\n",
      "21\n",
      "21|21"
     ]
    }
   ],
   "source": [
    "// 递加运算符\n",
    "int a=20;\n",
    "int b=20;\n",
    "// a++是后加\n",
    "cout<<a++<<endl;\n",
    "// ++b是先加\n",
    "cout<<++b<<endl;\n",
    "cout<<a<<\"|\"<<b;"
   ]
  },
  {
   "cell_type": "code",
   "execution_count": 16,
   "id": "ccc1407e",
   "metadata": {},
   "outputs": [
    {
     "name": "stdout",
     "output_type": "stream",
     "text": [
      "5\n"
     ]
    }
   ],
   "source": [
    "int x=5;\n",
    "int y=x++;\n",
    "cout<<y<<endl;"
   ]
  },
  {
   "cell_type": "code",
   "execution_count": 17,
   "id": "96d9d032",
   "metadata": {},
   "outputs": [
    {
     "name": "stdout",
     "output_type": "stream",
     "text": [
      "1\n",
      "2\n",
      "3\n",
      "4\n",
      "5\n",
      "6\n",
      "7\n",
      "8\n",
      "9\n",
      "10\n"
     ]
    }
   ],
   "source": [
    "int a =0;\n",
    "while(a++<10)\n",
    "    cout<<a<<endl;"
   ]
  },
  {
   "cell_type": "code",
   "execution_count": 18,
   "id": "f7343999",
   "metadata": {},
   "outputs": [
    {
     "name": "stdout",
     "output_type": "stream",
     "text": [
      "1\n",
      "2\n",
      "3\n",
      "4\n",
      "5\n",
      "6\n",
      "7\n",
      "8\n",
      "9\n"
     ]
    }
   ],
   "source": [
    "int a=0;\n",
    "while(++a<10)\n",
    "    cout<<a<<endl;"
   ]
  },
  {
   "cell_type": "code",
   "execution_count": 25,
   "id": "c9b04375",
   "metadata": {},
   "outputs": [
    {
     "name": "stdout",
     "output_type": "stream",
     "text": [
      "0\n",
      "1\n",
      "2\n",
      "3\n",
      "4\n",
      "5\n",
      "6\n",
      "7\n",
      "8\n",
      "9\n",
      "----\n",
      "0\n",
      "1\n",
      "2\n",
      "3\n",
      "4\n",
      "5\n",
      "6\n",
      "7\n",
      "8\n",
      "9\n"
     ]
    }
   ],
   "source": [
    "// 前缀表达式和后缀表达式，下面这两个运行结果是一样的\n",
    "for (int i=0;i<10;i++)\n",
    "    cout<<i<<endl;\n",
    "cout<<\"----\\n\";\n",
    "for (int j=0;j<10;++j)\n",
    "    cout<<j<<endl;"
   ]
  },
  {
   "cell_type": "code",
   "execution_count": 26,
   "id": "7bd713b2",
   "metadata": {},
   "outputs": [
    {
     "name": "stdout",
     "output_type": "stream",
     "text": [
      "2"
     ]
    }
   ],
   "source": [
    "// 递增递减计算符可以用于指针和基本变量\n",
    "int arr[5] = {1,2,3,4,5};\n",
    "int *b=arr;\n",
    "++b;\n",
    "cout<<*b;"
   ]
  },
  {
   "cell_type": "code",
   "execution_count": 38,
   "id": "003747c9",
   "metadata": {},
   "outputs": [
    {
     "name": "stdout",
     "output_type": "stream",
     "text": [
      "3\n",
      "4\n",
      "5\n",
      "5\n",
      "0"
     ]
    }
   ],
   "source": [
    "int arr[5] = {0,3,5,7,9};\n",
    "int *b=arr;\n",
    "// 这个表示指针位置+1\n",
    "int c = *++b;\n",
    "cout<<c<<endl;\n",
    "// 这个表示先获取指针，然后再+1\n",
    "int d=++*b;\n",
    "cout<<d<<endl;\n",
    "// 下面这个表示先+和后+的操作\n",
    "cout<<++(*b)<<endl;\n",
    "cout<<(*b)++<<endl;\n",
    "\n",
    "// 还有下面这种情况\n",
    "b=arr;\n",
    "cout<<*b++;"
   ]
  },
  {
   "cell_type": "code",
   "execution_count": 39,
   "id": "f5d1642e",
   "metadata": {},
   "outputs": [
    {
     "name": "stdout",
     "output_type": "stream",
     "text": [
      "6"
     ]
    }
   ],
   "source": [
    "// 下面介绍一下组合运算符\n",
    "int k =5;\n",
    "k+=1;\n",
    "cout<<k;"
   ]
  },
  {
   "cell_type": "code",
   "execution_count": 44,
   "id": "aaa861b4",
   "metadata": {},
   "outputs": [
    {
     "name": "stdout",
     "output_type": "stream",
     "text": [
      "99\n"
     ]
    }
   ],
   "source": [
    "// 语句块的变量只能在语句块里面使用\n",
    "int x = 99;\n",
    "{\n",
    "    int yyyy =100;\n",
    "}\n",
    "cout<<x<<endl;"
   ]
  },
  {
   "cell_type": "code",
   "execution_count": 45,
   "id": "fc2b7ea3",
   "metadata": {},
   "outputs": [
    {
     "name": "stderr",
     "output_type": "stream",
     "text": [
      "\u001b[1minput_line_56:2:8: \u001b[0m\u001b[0;1;31merror: \u001b[0m\u001b[1muse of undeclared identifier 'yyyy'\u001b[0m\n",
      " cout<<yyyy;\n",
      "\u001b[0;1;32m       ^\n",
      "\u001b[0m"
     ]
    },
    {
     "ename": "Interpreter Error",
     "evalue": "",
     "output_type": "error",
     "traceback": [
      "Interpreter Error: "
     ]
    }
   ],
   "source": [
    "// 下面这个会报错，提示变量没有定义\n",
    "cout<<yyyy;"
   ]
  },
  {
   "cell_type": "code",
   "execution_count": 46,
   "id": "491fa2da",
   "metadata": {},
   "outputs": [
    {
     "name": "stdout",
     "output_type": "stream",
     "text": [
      "1"
     ]
    }
   ],
   "source": [
    "// 逗号运算符，可以同时声明多个变量\n",
    "int a,b;\n",
    "// 可以多个变量赋值\n",
    "a=0,b=0;\n",
    "// 也可以这样\n",
    "a++,++b;\n",
    "cout<<a;"
   ]
  },
  {
   "cell_type": "code",
   "execution_count": 51,
   "id": "46db4f7e",
   "metadata": {},
   "outputs": [
    {
     "name": "stdout",
     "output_type": "stream",
     "text": [
      "20|40|20"
     ]
    },
    {
     "data": {
      "text/plain": [
       "@0x7f5b75fb1ba0"
      ]
     },
     "execution_count": 51,
     "metadata": {},
     "output_type": "execute_result"
    }
   ],
   "source": [
    "// 逗号运算符有两个注意事项\n",
    "// 第一个是会按照从左到右的顺序，第二个就是会优先赋值第一个\n",
    "int i,j,k;\n",
    "k = i=20,j=2*i;\n",
    "cout<<i<<\"|\"<<j<<\"|\"<<k;\n",
    "// 因为，的优先级最低，我们可以这样理解\n",
    "// (k=i=20),j=2*i"
   ]
  },
  {
   "cell_type": "code",
   "execution_count": 61,
   "id": "eba36c91",
   "metadata": {},
   "outputs": [],
   "source": [
    "// 关系表达式\n",
    "// >,<,==啥的就不讲了"
   ]
  },
  {
   "cell_type": "code",
   "execution_count": 5,
   "id": "861c503e",
   "metadata": {},
   "outputs": [
    {
     "name": "stdout",
     "output_type": "stream",
     "text": [
      "10"
     ]
    }
   ],
   "source": [
    "// 字符串比较有两种方式\n",
    "string a = \"123\";\n",
    "const char *aa=\"123\";\n",
    "bool b = a==\"123\";\n",
    "// strcmp相等为0，不等为1\n",
    "bool c = strcmp(aa,\"123\");\n",
    "cout<<b<<c;"
   ]
  },
  {
   "cell_type": "markdown",
   "id": "d770c80e",
   "metadata": {},
   "source": [
    "## 5.2 while循环"
   ]
  },
  {
   "cell_type": "code",
   "execution_count": 2,
   "id": "378cb2b3",
   "metadata": {},
   "outputs": [
    {
     "name": "stdout",
     "output_type": "stream",
     "text": [
      "0\n",
      "1\n",
      "2\n",
      "3\n",
      "4\n"
     ]
    }
   ],
   "source": [
    "int i=0;\n",
    "while(i<5){\n",
    "    cout<<i<<endl;\n",
    "    i++;\n",
    "}\n"
   ]
  },
  {
   "cell_type": "code",
   "execution_count": 4,
   "id": "32dcd25a",
   "metadata": {},
   "outputs": [
    {
     "name": "stdout",
     "output_type": "stream",
     "text": [
      "AA"
     ]
    }
   ],
   "source": [
    "// 我们可以定义类型别名\n",
    "#define BYTE char\n",
    "// 第二种定义方式\n",
    "typedef char byte;\n",
    "byte a = 65;\n",
    "BYTE b =65;\n",
    "cout<<a<<b;"
   ]
  },
  {
   "cell_type": "markdown",
   "id": "22956473",
   "metadata": {},
   "source": [
    "## 5.3 do-while循环\n"
   ]
  },
  {
   "cell_type": "code",
   "execution_count": 6,
   "id": "45511645",
   "metadata": {},
   "outputs": [
    {
     "name": "stdout",
     "output_type": "stream",
     "text": [
      "12345"
     ]
    }
   ],
   "source": [
    "int i =0;\n",
    "do{\n",
    "    i++;\n",
    "    cout<<i;\n",
    "}while(i<5);"
   ]
  },
  {
   "cell_type": "code",
   "execution_count": 7,
   "id": "5e9330e8",
   "metadata": {},
   "outputs": [
    {
     "name": "stdout",
     "output_type": "stream",
     "text": [
      "123456789\n",
      "0123456789"
     ]
    }
   ],
   "source": [
    "// for循环可以这样操作\n",
    "int i =0;\n",
    "for(;;){\n",
    "    i++;\n",
    "    cout<<i;\n",
    "    if(i>8) break;\n",
    "}\n",
    "// 或者这样\n",
    "i=0;\n",
    "cout<<endl;\n",
    "for(;;i++){\n",
    "    cout<<i;\n",
    "    if(i>8) break;\n",
    "}"
   ]
  },
  {
   "cell_type": "markdown",
   "id": "87ee9e72",
   "metadata": {},
   "source": [
    "## 5.4 基于范围的for循环"
   ]
  },
  {
   "cell_type": "code",
   "execution_count": 9,
   "id": "90f0a945",
   "metadata": {},
   "outputs": [
    {
     "name": "stdout",
     "output_type": "stream",
     "text": [
      "1.1 2.12 3.13 4.15 "
     ]
    }
   ],
   "source": [
    "double price[4] = {1.1,2.12,3.13,4.15};\n",
    "for(double &x:price){\n",
    "    cout<<x<<\" \";\n",
    "}"
   ]
  },
  {
   "cell_type": "code",
   "execution_count": 10,
   "id": "db468358",
   "metadata": {},
   "outputs": [
    {
     "name": "stdout",
     "output_type": "stream",
     "text": [
      "1 2 3 4 5 "
     ]
    }
   ],
   "source": [
    "// 也可以这样\n",
    "for(int x:{1,2,3,4,5})\n",
    "    cout<<x<<\" \";"
   ]
  },
  {
   "cell_type": "markdown",
   "id": "4887d452",
   "metadata": {},
   "source": [
    "## 5.5 循环和文本输入\n",
    "\n",
    "这块不作为重点讲解\n",
    "## 5.6 嵌套循环和二维数组"
   ]
  },
  {
   "cell_type": "code",
   "execution_count": 11,
   "id": "7c557e63",
   "metadata": {},
   "outputs": [],
   "source": [
    "// 我们先初始化二维数组\n",
    "int maxtemps[4][5]={\n",
    "    {96,100,87,101,105},\n",
    "    {96,88,91,107,104},\n",
    "    {97,101,93,108,107},\n",
    "    {98,103,95,109,108}\n",
    "};"
   ]
  },
  {
   "cell_type": "code",
   "execution_count": 12,
   "id": "87c4119d",
   "metadata": {},
   "outputs": [
    {
     "name": "stdout",
     "output_type": "stream",
     "text": [
      "96\t100\t87\t101\t105\t\n",
      "96\t88\t91\t107\t104\t\n",
      "97\t101\t93\t108\t107\t\n",
      "98\t103\t95\t109\t108\t\n"
     ]
    }
   ],
   "source": [
    "// 二维数组可以这样遍历\n",
    "for(int row=0;row<4;row++){\n",
    "    for(int col=0;col<5;col++)\n",
    "        cout<<maxtemps[row][col]<<\"\\t\";\n",
    "    cout<<endl;\n",
    "}"
   ]
  },
  {
   "cell_type": "code",
   "execution_count": null,
   "id": "4b94552d",
   "metadata": {},
   "outputs": [],
   "source": []
  }
 ],
 "metadata": {
  "kernelspec": {
   "display_name": "C++17",
   "language": "C++17",
   "name": "xcpp17"
  },
  "language_info": {
   "codemirror_mode": "text/x-c++src",
   "file_extension": ".cpp",
   "mimetype": "text/x-c++src",
   "name": "c++",
   "version": "17"
  }
 },
 "nbformat": 4,
 "nbformat_minor": 5
}
