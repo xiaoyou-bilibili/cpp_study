{
 "cells": [
  {
   "cell_type": "code",
   "execution_count": 1,
   "id": "d02b39de",
   "metadata": {},
   "outputs": [],
   "source": [
    "#include <iostream>\n",
    "#include <string>\n",
    "using namespace std;"
   ]
  },
  {
   "cell_type": "markdown",
   "id": "5f9053e3",
   "metadata": {},
   "source": [
    "## 4.1 数组"
   ]
  },
  {
   "cell_type": "code",
   "execution_count": 3,
   "id": "f2d28d1b",
   "metadata": {},
   "outputs": [
    {
     "name": "stdout",
     "output_type": "stream",
     "text": [
      "7"
     ]
    }
   ],
   "source": [
    "int a[12];\n",
    "a[0] = 7;\n",
    "cout<<a[0];"
   ]
  },
  {
   "cell_type": "code",
   "execution_count": 4,
   "id": "6b820f82",
   "metadata": {},
   "outputs": [
    {
     "name": "stdout",
     "output_type": "stream",
     "text": [
      "2"
     ]
    }
   ],
   "source": [
    "// 也可以这样初始化\n",
    "int a[3] = {1,2,3};\n",
    "cout<<a[1];"
   ]
  },
  {
   "cell_type": "code",
   "execution_count": 7,
   "id": "38de85bc",
   "metadata": {},
   "outputs": [
    {
     "name": "stdout",
     "output_type": "stream",
     "text": [
      "12\n",
      "3"
     ]
    }
   ],
   "source": [
    "// sizeof可以获取数组里面所有的字节数\n",
    "cout<<sizeof(a)<<endl;\n",
    "// 我们可以通过下面这种方式来计算数组元素个数\n",
    "cout<<sizeof(a)/sizeof(int);"
   ]
  },
  {
   "cell_type": "code",
   "execution_count": 8,
   "id": "52cfc90d",
   "metadata": {},
   "outputs": [
    {
     "name": "stdout",
     "output_type": "stream",
     "text": [
      "2"
     ]
    }
   ],
   "source": [
    "// 初始化可以只初始化某几个\n",
    "int a[3] = {1,2};\n",
    "cout<<a[1];"
   ]
  },
  {
   "cell_type": "code",
   "execution_count": 11,
   "id": "af31cbdc",
   "metadata": {},
   "outputs": [
    {
     "name": "stdout",
     "output_type": "stream",
     "text": [
      "0\n",
      "0"
     ]
    }
   ],
   "source": [
    "// 我们可以快速设置所有元素为0，如果是1就只会设置第一个元素为1\n",
    "int a[10] = {0};\n",
    "int b[10] = {1};\n",
    "cout<<a[5]<<endl;\n",
    "cout<<b[5];"
   ]
  },
  {
   "cell_type": "code",
   "execution_count": 12,
   "id": "6bb97c42",
   "metadata": {},
   "outputs": [
    {
     "name": "stdout",
     "output_type": "stream",
     "text": [
      "2"
     ]
    }
   ],
   "source": [
    "// 我们初始化的时候可以让c++自己推断\n",
    "int a[] = {1,2,3};\n",
    "cout<<a[1];"
   ]
  },
  {
   "cell_type": "code",
   "execution_count": 13,
   "id": "61b199f1",
   "metadata": {},
   "outputs": [
    {
     "name": "stdout",
     "output_type": "stream",
     "text": [
      "2"
     ]
    }
   ],
   "source": [
    "// c++11还提供了下面这种初始化的方式\n",
    "int a[4] {4,3,2,1};\n",
    "cout<<a[2];"
   ]
  },
  {
   "cell_type": "markdown",
   "id": "17cedae7",
   "metadata": {},
   "source": [
    "## 4.2 字符串"
   ]
  },
  {
   "cell_type": "code",
   "execution_count": 2,
   "id": "bab300a5",
   "metadata": {},
   "outputs": [
    {
     "name": "stdout",
     "output_type": "stream",
     "text": [
      "fatessa"
     ]
    }
   ],
   "source": [
    "// 传统字符串\n",
    "char a[8] = {'f','a','t','e','s','s','a','\\0'};\n",
    "cout<<a;"
   ]
  },
  {
   "cell_type": "code",
   "execution_count": 3,
   "id": "27eb5655",
   "metadata": {},
   "outputs": [
    {
     "name": "stdout",
     "output_type": "stream",
     "text": [
      "fatessa\n",
      "fatessa\n"
     ]
    }
   ],
   "source": [
    "// 也可以简写一下\n",
    "char a[8]=\"fatessa\";\n",
    "char b[]=\"fatessa\";\n",
    "cout<<a<<endl;\n",
    "cout<<b<<endl;"
   ]
  },
  {
   "cell_type": "code",
   "execution_count": 5,
   "id": "2249070e",
   "metadata": {},
   "outputs": [],
   "source": [
    "// 注意单引号和双引号的区别\n",
    "char a = 'a';\n",
    "// 下面这个不行，下面这个表示字符串而不是字符\n",
    "// char a = \"a\";"
   ]
  },
  {
   "cell_type": "code",
   "execution_count": 6,
   "id": "0a76c6ce",
   "metadata": {},
   "outputs": [
    {
     "name": "stdout",
     "output_type": "stream",
     "text": [
      "hello,word"
     ]
    },
    {
     "data": {
      "text/plain": [
       "@0x7fcd7f83cba0"
      ]
     },
     "execution_count": 6,
     "metadata": {},
     "output_type": "execute_result"
    }
   ],
   "source": [
    "// cout可以支持字符串拼接\n",
    "cout<<\"hello,\" \"word\""
   ]
  },
  {
   "cell_type": "code",
   "execution_count": 7,
   "id": "cbc21def",
   "metadata": {},
   "outputs": [
    {
     "name": "stdout",
     "output_type": "stream",
     "text": [
      "hello\n",
      "hello"
     ]
    }
   ],
   "source": [
    "// cin可以直接接受字符串\n",
    "char name[20];\n",
    "cin>>name;\n",
    "cout<<name;"
   ]
  },
  {
   "cell_type": "code",
   "execution_count": 10,
   "id": "2476fab2",
   "metadata": {},
   "outputs": [
    {
     "name": "stdout",
     "output_type": "stream",
     "text": [
      "sdsdjhsdkjhsakjdhjkhasdasdasdasda\n",
      "sdsdjhsdkjhsakjdhjk"
     ]
    }
   ],
   "source": [
    "// 上面cin无法控制多少内容\n",
    "// 下面这个cin可以获取一行数据\n",
    "char name[20];\n",
    "cin.getline(name,20);\n",
    "cout<<name;"
   ]
  },
  {
   "cell_type": "markdown",
   "id": "337b7703",
   "metadata": {},
   "source": [
    "## 4.3 string类"
   ]
  },
  {
   "cell_type": "code",
   "execution_count": 11,
   "id": "64b4cb8e",
   "metadata": {},
   "outputs": [],
   "source": [
    "#include <string>\n",
    "#include <iostream>\n",
    "using namespace std;"
   ]
  },
  {
   "cell_type": "code",
   "execution_count": 13,
   "id": "35fb6fe2",
   "metadata": {},
   "outputs": [
    {
     "name": "stdout",
     "output_type": "stream",
     "text": [
      "hello,word\n",
      "e"
     ]
    }
   ],
   "source": [
    "string a = \"hello,word\";\n",
    "cout<<a<<endl;\n",
    "// string类也可以使用索引操作\n",
    "cout<<a[1];"
   ]
  },
  {
   "cell_type": "code",
   "execution_count": 16,
   "id": "a6a4e6ca",
   "metadata": {},
   "outputs": [
    {
     "name": "stdout",
     "output_type": "stream",
     "text": [
      "hello"
     ]
    }
   ],
   "source": [
    "// 也可以使用下面这种方式来初始化\n",
    "string a {\"hello\"};\n",
    "cout<<a;"
   ]
  },
  {
   "cell_type": "code",
   "execution_count": 17,
   "id": "be84750e",
   "metadata": {},
   "outputs": [
    {
     "name": "stdout",
     "output_type": "stream",
     "text": [
      "hell"
     ]
    }
   ],
   "source": [
    "// 字符串支持拼接\n",
    "string a = \"he\";\n",
    "string b = \"ll\";\n",
    "a += b;\n",
    "cout << a;"
   ]
  },
  {
   "cell_type": "code",
   "execution_count": 25,
   "id": "1f93bb0b",
   "metadata": {},
   "outputs": [
    {
     "name": "stdout",
     "output_type": "stream",
     "text": [
      "aaaa\n",
      "bbbbb\n",
      "aaaaccc\n",
      "bbbbbdddd\n",
      "7|9"
     ]
    }
   ],
   "source": [
    "// 我们也可以用c风格的函数来对字符操作\n",
    "string a = \"aaaa\";\n",
    "string b;\n",
    "char c[20] = \"bbbbb\";\n",
    "char d[20];\n",
    "// 下面两个拷贝等价\n",
    "b=a;\n",
    "strcpy(d,c);\n",
    "cout<<a<<endl<<d<<endl;\n",
    "// 下面两个字符串拼接等价\n",
    "a+=\"ccc\";\n",
    "strcat(c,\"dddd\");\n",
    "cout<<a<<endl<<c<<endl;\n",
    "// 下面两个获取长度等价\n",
    "int az = a.size();\n",
    "int cz =strlen(c);\n",
    "cout<<az<<\"|\"<<cz;"
   ]
  },
  {
   "cell_type": "code",
   "execution_count": 30,
   "id": "ee380586",
   "metadata": {},
   "outputs": [
    {
     "name": "stdout",
     "output_type": "stream",
     "text": [
      "hjh\n",
      "hjh"
     ]
    }
   ],
   "source": [
    "// 我们可以这样输入字符串\n",
    "string a;\n",
    "cin>>a;\n",
    "cout<<a;"
   ]
  },
  {
   "cell_type": "code",
   "execution_count": 33,
   "id": "c1a297b6",
   "metadata": {},
   "outputs": [],
   "source": [
    "// 其他类型的字符串\n",
    "wchar_t title[] = L\"hello\";\n",
    "char16_t name[] = u\"bb\";\n",
    "char32_t car[] = U\"char\";"
   ]
  },
  {
   "cell_type": "code",
   "execution_count": 36,
   "id": "97362b4a",
   "metadata": {},
   "outputs": [
    {
     "name": "stdout",
     "output_type": "stream",
     "text": [
      "hello.word\\n"
     ]
    }
   ],
   "source": [
    "// 原始字符串，不会进行转义\n",
    "cout<<R\"(hello.word\\n)\";"
   ]
  },
  {
   "cell_type": "markdown",
   "id": "747cee2b",
   "metadata": {},
   "source": [
    "## 4.4 结构简介"
   ]
  },
  {
   "cell_type": "code",
   "execution_count": 2,
   "id": "9f8b1eb5",
   "metadata": {},
   "outputs": [],
   "source": [
    "// 下面我们定义一个结构\n",
    "struct people {\n",
    "    string name;\n",
    "    int age;\n",
    "    double price;\n",
    "};"
   ]
  },
  {
   "cell_type": "code",
   "execution_count": 42,
   "id": "b544f387",
   "metadata": {},
   "outputs": [
    {
     "name": "stdout",
     "output_type": "stream",
     "text": [
      "xiaoyou50"
     ]
    }
   ],
   "source": [
    "// 下面我们创建这个结构\n",
    "people a;\n",
    "// 然后给结构赋值\n",
    "a.name = \"xiaoyou\";\n",
    "a.age = 50;\n",
    "cout<<a.name<<a.age;"
   ]
  },
  {
   "cell_type": "code",
   "execution_count": 3,
   "id": "026d0d1c",
   "metadata": {},
   "outputs": [
    {
     "name": "stdout",
     "output_type": "stream",
     "text": [
      "xiaoyou4412.3"
     ]
    }
   ],
   "source": [
    "// 我们也可以这样初始化结构\n",
    "people b = {\"xiaoyou\",44,12.3};\n",
    "cout<<b.name<<b.age<<b.price;"
   ]
  },
  {
   "cell_type": "code",
   "execution_count": 5,
   "id": "b1183910",
   "metadata": {},
   "outputs": [
    {
     "name": "stdout",
     "output_type": "stream",
     "text": [
      "xiaoyou66113.13"
     ]
    }
   ],
   "source": [
    "// 也可以这样\n",
    "people b {\"xiaoyou66\",11,3.13};\n",
    "// 或者这样\n",
    "people c {};\n",
    "cout<<b.name<<b.age<<b.price;"
   ]
  },
  {
   "cell_type": "code",
   "execution_count": 6,
   "id": "569f9da1",
   "metadata": {
    "scrolled": true
   },
   "outputs": [
    {
     "name": "stderr",
     "output_type": "stream",
     "text": [
      "\u001b[1minput_line_13:4:2: \u001b[0m\u001b[0;1;31merror: \u001b[0m\u001b[1mexpected ';' after struct\u001b[0m\n",
      "} void __cling_Un1Qu36(void* vpClingValue) {\n",
      "\u001b[0;1;32m ^\n",
      "\u001b[0m\u001b[0;32m ;\n",
      "\u001b[0m\u001b[1minput_line_13:5:2: \u001b[0m\u001b[0;1;31merror: \u001b[0m\u001b[1muse of undeclared identifier 'mr'\u001b[0m\n",
      " mr;\n",
      "\u001b[0;1;32m ^\n",
      "\u001b[0m\u001b[1minput_line_13:6:1: \u001b[0m\u001b[0;1;31merror: \u001b[0m\u001b[1muse of undeclared identifier 'mr'\u001b[0m\n",
      "mr.key = 1;\n",
      "\u001b[0;1;32m^\n",
      "\u001b[0m\u001b[1minput_line_13:7:7: \u001b[0m\u001b[0;1;31merror: \u001b[0m\u001b[1muse of undeclared identifier 'mr'\u001b[0m\n",
      "cout<<mr.key;\n",
      "\u001b[0;1;32m      ^\n",
      "\u001b[0m"
     ]
    },
    {
     "ename": "Interpreter Error",
     "evalue": "",
     "output_type": "error",
     "traceback": [
      "Interpreter Error: "
     ]
    }
   ],
   "source": [
    "// 我们也可以在定义结构后直接创建结构变量，这里会报错，但是本地测试没问题\n",
    "struct perks {\n",
    "    int key;\n",
    "} mr;\n",
    "mr.key = 1;\n",
    "cout<<mr.key;\n",
    "// 这样也可以\n",
    "struct perks {\n",
    "    int key;\n",
    "} mr={1};\n",
    "cout<<mr.key;"
   ]
  },
  {
   "cell_type": "code",
   "execution_count": 3,
   "id": "535ee073",
   "metadata": {},
   "outputs": [
    {
     "name": "stdout",
     "output_type": "stream",
     "text": [
      "0\n",
      "66"
     ]
    }
   ],
   "source": [
    "// 我们可以创建一个结构体数组\n",
    "people a[100];\n",
    "a[10].age = 66;\n",
    "cout<<a[0].age<<endl<<a[10].age;"
   ]
  },
  {
   "cell_type": "code",
   "execution_count": 5,
   "id": "8af715d3",
   "metadata": {},
   "outputs": [
    {
     "name": "stdout",
     "output_type": "stream",
     "text": [
      "a"
     ]
    }
   ],
   "source": [
    "// 可以这样批量初始化\n",
    "people guests[2]={\n",
    "    {\"a\",12,1.2},\n",
    "    {\"b\",13,3.2}\n",
    "};\n",
    "cout<<guests[0].name;"
   ]
  },
  {
   "cell_type": "code",
   "execution_count": 6,
   "id": "51ad04e0",
   "metadata": {},
   "outputs": [],
   "source": [
    "// 创建结构体的时候可以指定变量所占的位数,冒号后面跟所占位数\n",
    "struct registe{\n",
    "    unsigned int SN:4;\n",
    "    unsigned int:4;\n",
    "    bool goodIn:1;\n",
    "}"
   ]
  },
  {
   "cell_type": "markdown",
   "id": "eec614d8",
   "metadata": {},
   "source": [
    "## 4.5 共用体\n",
    "\n",
    "共用体（union）是一种数据格式，它能够存储不同的数据类型，\n",
    "但只能同时存储其中的一种类型。也就是说，结构可以同时存储int、\n",
    "long和double，共用体只能存储int、long或double。"
   ]
  },
  {
   "cell_type": "code",
   "execution_count": 7,
   "id": "a2512d9e",
   "metadata": {},
   "outputs": [],
   "source": [
    "union one{\n",
    "    int int_val;\n",
    "    long long_val;\n",
    "    double double_val;\n",
    "};"
   ]
  },
  {
   "cell_type": "code",
   "execution_count": 8,
   "id": "1fb30a64",
   "metadata": {},
   "outputs": [
    {
     "name": "stdout",
     "output_type": "stream",
     "text": [
      "5"
     ]
    }
   ],
   "source": [
    "one pail;\n",
    "pail.int_val=5;\n",
    "cout<<pail.int_val;"
   ]
  },
  {
   "cell_type": "code",
   "execution_count": 9,
   "id": "dbdd7583",
   "metadata": {},
   "outputs": [
    {
     "name": "stdout",
     "output_type": "stream",
     "text": [
      "1.38"
     ]
    }
   ],
   "source": [
    "one pail;\n",
    "pail.double_val=1.38;\n",
    "cout<<pail.double_val;"
   ]
  },
  {
   "cell_type": "code",
   "execution_count": 11,
   "id": "d6f42442",
   "metadata": {},
   "outputs": [],
   "source": [
    "// 共用体可以和结构体配合使用\n",
    "struct widget {\n",
    "    int type;\n",
    "    union id {\n",
    "        long id_num;\n",
    "        char id_char[20];\n",
    "    };\n",
    "}"
   ]
  },
  {
   "cell_type": "code",
   "execution_count": 16,
   "id": "d15adb94",
   "metadata": {},
   "outputs": [
    {
     "name": "stdout",
     "output_type": "stream",
     "text": [
      "10"
     ]
    }
   ],
   "source": [
    "// 匿名共用体\n",
    "struct widget {\n",
    "    string brand;\n",
    "    union {\n",
    "        int id_num;\n",
    "        char id_char[2];\n",
    "    };\n",
    "};\n",
    "widget a;\n",
    "a.id_num =10;\n",
    "cout<<a.id_num;"
   ]
  },
  {
   "cell_type": "markdown",
   "id": "c09ca56b",
   "metadata": {},
   "source": [
    "共用体常用于（但并非只能用于）节省内存。当前，系统的内存多\n",
    "达数GB甚至数TB，好像没有必要节省内存，但并非所有的C++程序都\n",
    "是为这样的系统编写的。C++还用于嵌入式系统编程，如控制烤箱、\n",
    "MP3播放器或火星漫步者的处理器。对这些应用程序来说，内存可能非\n",
    "常宝贵。另外，共用体常用于操作系统数据结构或硬件数据结构。"
   ]
  },
  {
   "cell_type": "markdown",
   "id": "541aaed6",
   "metadata": {},
   "source": [
    "## 4.6 枚举"
   ]
  },
  {
   "cell_type": "code",
   "execution_count": 17,
   "id": "98aed4b9",
   "metadata": {},
   "outputs": [],
   "source": [
    "enum spectrum{\n",
    "    red,origin,yellow,green,blue,violet\n",
    "};"
   ]
  },
  {
   "cell_type": "code",
   "execution_count": 19,
   "id": "e80f4d46",
   "metadata": {},
   "outputs": [
    {
     "name": "stdout",
     "output_type": "stream",
     "text": [
      "4"
     ]
    }
   ],
   "source": [
    "// 枚举可以这样使用\n",
    "spectrum band;\n",
    "band=blue;\n",
    "cout<<band;"
   ]
  },
  {
   "cell_type": "code",
   "execution_count": 25,
   "id": "3a48ba07",
   "metadata": {},
   "outputs": [
    {
     "name": "stderr",
     "output_type": "stream",
     "text": [
      "\u001b[1minput_line_32:3:6: \u001b[0m\u001b[0;1;31merror: \u001b[0m\u001b[1massigning to 'spectrum' from incompatible type 'int'\u001b[0m\n",
      "band=4;\n",
      "\u001b[0;1;32m     ^\n",
      "\u001b[0m"
     ]
    },
    {
     "ename": "Interpreter Error",
     "evalue": "",
     "output_type": "error",
     "traceback": [
      "Interpreter Error: "
     ]
    }
   ],
   "source": [
    "// 枚举不能赋其他内容\n",
    "band=4;"
   ]
  },
  {
   "cell_type": "code",
   "execution_count": 24,
   "id": "ec9158cd",
   "metadata": {},
   "outputs": [
    {
     "name": "stdout",
     "output_type": "stream",
     "text": [
      "6"
     ]
    }
   ],
   "source": [
    "// 枚举可提升为int类型\n",
    "int color=2+blue;\n",
    "cout<<color;"
   ]
  },
  {
   "cell_type": "code",
   "execution_count": 26,
   "id": "f23f304d",
   "metadata": {},
   "outputs": [
    {
     "name": "stdout",
     "output_type": "stream",
     "text": [
      "5"
     ]
    }
   ],
   "source": [
    "// 枚举可以强制转换\n",
    "band = spectrum(5);\n",
    "cout<<band;"
   ]
  },
  {
   "cell_type": "code",
   "execution_count": 2,
   "id": "d9ac1ceb",
   "metadata": {},
   "outputs": [
    {
     "name": "stdout",
     "output_type": "stream",
     "text": [
      "100\n",
      "101"
     ]
    }
   ],
   "source": [
    "// 我们可以显示的设置枚举的值\n",
    "enum bits{one=1,two=2,four=4};\n",
    "// 也可以只指定某一个值\n",
    "enum bitg{first,second=100,third};\n",
    "// 甚至可以创建多个相同的枚举值\n",
    "enum btsa{zero,null=0,nunero_uno=1};\n",
    "bitg a = second;\n",
    "cout<<a<<endl;\n",
    "// 枚举实际上就是整数递增\n",
    "a = third;\n",
    "cout<<a;"
   ]
  },
  {
   "cell_type": "markdown",
   "id": "156dba6c",
   "metadata": {},
   "source": [
    "## 4.7 指针和自由存储空间"
   ]
  },
  {
   "cell_type": "code",
   "execution_count": 3,
   "id": "0896b7a7",
   "metadata": {},
   "outputs": [
    {
     "name": "stdout",
     "output_type": "stream",
     "text": [
      "6\n",
      "6"
     ]
    }
   ],
   "source": [
    "// 定义一个变量和指针\n",
    "int a = 6;\n",
    "int *b;\n",
    "b=&a;\n",
    "cout<<a<<endl;\n",
    "cout<<*b;"
   ]
  },
  {
   "cell_type": "code",
   "execution_count": 4,
   "id": "5f778758",
   "metadata": {},
   "outputs": [],
   "source": [
    "//&可以获取变量的地址\n",
    "//*可以获取指针变量的值\n",
    "// 所以 a *b是一样的\n",
    "// &a b是一样的"
   ]
  },
  {
   "cell_type": "code",
   "execution_count": 5,
   "id": "82317ec3",
   "metadata": {},
   "outputs": [],
   "source": [
    "// 这个*可以放在任何地方\n",
    "int *a;\n",
    "int* b;\n",
    "int*c;"
   ]
  },
  {
   "cell_type": "code",
   "execution_count": 7,
   "id": "3a972bcb",
   "metadata": {},
   "outputs": [
    {
     "name": "stdout",
     "output_type": "stream",
     "text": [
      "10\n",
      "10"
     ]
    }
   ],
   "source": [
    "// 每个变量都必须要加一个*\n",
    "int* p1,p2;\n",
    "// 这里p1是指针，p2实际上是int\n",
    "p2=10;\n",
    "cout<<p2<<endl;\n",
    "p1=&p2;\n",
    "cout<<*p1;"
   ]
  },
  {
   "cell_type": "code",
   "execution_count": 8,
   "id": "ad57ccd7",
   "metadata": {},
   "outputs": [
    {
     "name": "stdout",
     "output_type": "stream",
     "text": [
      "5"
     ]
    }
   ],
   "source": [
    "// 我们可以在声明语句中初始化指针\n",
    "int a = 5;\n",
    "int *b=&a;\n",
    "cout<<*b;"
   ]
  },
  {
   "cell_type": "code",
   "execution_count": 10,
   "id": "c3b17028",
   "metadata": {},
   "outputs": [
    {
     "name": "stderr",
     "output_type": "stream",
     "text": [
      "\u001b[1minput_line_17:5:2: \u001b[0m\u001b[0;1;35mwarning: \u001b[0m\u001b[1mnull passed to a callee that requires a non-null argument [-Wnonnull]\u001b[0m\n",
      "*a=20;\n",
      "\u001b[0;1;32m ^\n",
      "\u001b[0m"
     ]
    },
    {
     "ename": "Interpreter Exception",
     "evalue": "",
     "output_type": "error",
     "traceback": [
      "Interpreter Exception: "
     ]
    }
   ],
   "source": [
    "// 注意，当我们使用指针的时候，计算机只会分配存储地址的内存，不会分配存储数据的内容\n",
    "// 所以下面这样会报错\n",
    "int *a;\n",
    "*a=20;"
   ]
  },
  {
   "cell_type": "code",
   "execution_count": 13,
   "id": "39fcab88",
   "metadata": {},
   "outputs": [
    {
     "name": "stdout",
     "output_type": "stream",
     "text": [
      "0\n",
      "0x7feceb29c098"
     ]
    }
   ],
   "source": [
    "int *pt;\n",
    "int a= 10;\n",
    "cout<<pt<<endl;\n",
    "// 我们可以这样查看变量所在的内存\n",
    "pt =&a;\n",
    "cout<<pt;"
   ]
  },
  {
   "cell_type": "code",
   "execution_count": 14,
   "id": "d1a087ec",
   "metadata": {},
   "outputs": [
    {
     "name": "stdout",
     "output_type": "stream",
     "text": [
      "10"
     ]
    }
   ],
   "source": [
    "// 我们可以使用new来分配内存，分配内存后我们就可以给指针赋值了\n",
    "int *a = new int;\n",
    "*a=10;\n",
    "cout<<*a;"
   ]
  },
  {
   "cell_type": "markdown",
   "id": "03e872c2",
   "metadata": {},
   "source": [
    "对于指针，需要指出的另一点是，new分配的内存块通常与常规变\n",
    "量声明分配的内存块不同。变量nights和pd的值都存储在被称为栈\n",
    "（stack）的内存区域中，而new从被称为堆（heap）或自由存储区（free\n",
    "store）的内存区域分配内存。"
   ]
  },
  {
   "cell_type": "code",
   "execution_count": 15,
   "id": "1d98ccf5",
   "metadata": {},
   "outputs": [],
   "source": [
    "// 我们可以使用delte来释放我们的内存\n",
    "int *a= new int;\n",
    "delete a;\n",
    "/*\n",
    "一定要配对地使用new和delete；否则将发生内存泄漏（memory leak），也就是说，被分配的内存再也无法使用了。\n",
    "如果内存泄漏严重，则程序将由于不断寻找更多内存而终止。\n",
    "\n",
    "不要尝试释放已经释放的内存块，C++标准指出，这样做的结果将\n",
    "是不确定的，这意味着什么情况都可能发生。另外，不能使用delete来\n",
    "释放声明变量所获得的内存\n",
    "*/"
   ]
  },
  {
   "cell_type": "code",
   "execution_count": 8,
   "id": "9391382c",
   "metadata": {},
   "outputs": [
    {
     "name": "stdout",
     "output_type": "stream",
     "text": [
      "66"
     ]
    }
   ],
   "source": [
    "// 我们可以使用new来创建动态数组\n",
    "int *pesome = new int[10];\n",
    "// 数组的访问和赋值不需要加*\n",
    "pesome[5] = 66;\n",
    "cout<<pesome[5];\n",
    "// 需要这样删除数据\n",
    "delete []pesome;"
   ]
  },
  {
   "cell_type": "code",
   "execution_count": 9,
   "id": "986a024b",
   "metadata": {},
   "outputs": [],
   "source": [
    "// delte可以删除空指针\n",
    "int *a;\n",
    "delete a;"
   ]
  },
  {
   "cell_type": "code",
   "execution_count": 24,
   "id": "50c62e51",
   "metadata": {},
   "outputs": [],
   "source": [
    "// 数组和指针数组其实是一样的\n",
    "int b[3] {1,2,3};\n",
    "int *c = new int[3];\n",
    "c[0] = 1;\n",
    "c[1] = 2;\n",
    "c[2] = 3;"
   ]
  },
  {
   "cell_type": "code",
   "execution_count": 25,
   "id": "fa3a0d92",
   "metadata": {},
   "outputs": [
    {
     "name": "stdout",
     "output_type": "stream",
     "text": [
      "1\n",
      "2"
     ]
    }
   ],
   "source": [
    "// 指针数组可以直接加\n",
    "cout<<*c<<endl;\n",
    "// 这个+1表示我们取第二个元素\n",
    "cout<<*(c+1);"
   ]
  },
  {
   "cell_type": "code",
   "execution_count": 29,
   "id": "184ae44e",
   "metadata": {},
   "outputs": [
    {
     "name": "stdout",
     "output_type": "stream",
     "text": [
      "1\n",
      "2"
     ]
    }
   ],
   "source": [
    "// 数组也可以这样操作\n",
    "cout<<*b<<endl;\n",
    "cout<<*(b+1);"
   ]
  },
  {
   "cell_type": "markdown",
   "id": "cf5aa679",
   "metadata": {},
   "source": [
    "## 4.8 指针、数组和指针算术"
   ]
  },
  {
   "cell_type": "code",
   "execution_count": 33,
   "id": "a0e16520",
   "metadata": {},
   "outputs": [
    {
     "name": "stdout",
     "output_type": "stream",
     "text": [
      "0x7ff41efe60d0|0x7ff41efe60dc"
     ]
    }
   ],
   "source": [
    "int a[3] = {1,2,3};\n",
    "short b[3] = {3,2,1};\n",
    "// 下面我们获取一下数组的地址，这两个操作都是等价的\n",
    "int *pa=a;\n",
    "short *pb=&b[0];\n",
    "cout<<pa<<\"|\"<<pb;"
   ]
  },
  {
   "cell_type": "code",
   "execution_count": 34,
   "id": "a8f67f37",
   "metadata": {},
   "outputs": [
    {
     "name": "stdout",
     "output_type": "stream",
     "text": [
      "2|0x7ff41efe60d4"
     ]
    }
   ],
   "source": [
    "// 我们对地址+1，这里实际上会取到第二个元素\n",
    "pa = pa+1;\n",
    "cout<<*pa<<\"|\"<<pa;"
   ]
  },
  {
   "cell_type": "code",
   "execution_count": 35,
   "id": "b2e692e9",
   "metadata": {},
   "outputs": [
    {
     "name": "stdout",
     "output_type": "stream",
     "text": [
      "2|0x7ff41efe60de"
     ]
    }
   ],
   "source": [
    "// 另外一个也是这样\n",
    "pb+=1;\n",
    "cout<<*pb<<\"|\"<<pb;"
   ]
  },
  {
   "cell_type": "code",
   "execution_count": 36,
   "id": "77865ee2",
   "metadata": {},
   "outputs": [
    {
     "name": "stdout",
     "output_type": "stream",
     "text": [
      "0x7ff41efe60f8\n",
      "0x7ff41efe60f8"
     ]
    }
   ],
   "source": [
    "// 我们可以这样进行数组赋值\n",
    "int a[3] = {1,2,3};\n",
    "cout<<&a<<endl;\n",
    "// 注意这个*b必须要使用括号包起来\n",
    "int (*b)[3] = &a;\n",
    "cout<<b;"
   ]
  },
  {
   "cell_type": "code",
   "execution_count": 40,
   "id": "ebdda6c7",
   "metadata": {},
   "outputs": [
    {
     "name": "stdout",
     "output_type": "stream",
     "text": [
      "bear\n",
      "wren"
     ]
    }
   ],
   "source": [
    "char animal[20] = \"bear\";\n",
    "const char *bird = \"wren\";\n",
    "cout<<animal<<endl;\n",
    "cout<<bird;"
   ]
  },
  {
   "cell_type": "code",
   "execution_count": 52,
   "id": "369aeb2e",
   "metadata": {},
   "outputs": [
    {
     "name": "stdout",
     "output_type": "stream",
     "text": [
      "bear\n",
      "bear\n",
      "bcar\n",
      "bcar\n"
     ]
    }
   ],
   "source": [
    "// 这样赋值会导致两个地址都是一样的\n",
    "char *ps;\n",
    "ps = animal;\n",
    "cout<<animal<<endl<<ps<<endl;\n",
    "animal[1] = 'c';\n",
    "cout<<animal<<endl<<ps<<endl;"
   ]
  },
  {
   "cell_type": "code",
   "execution_count": 3,
   "id": "d8c889c1",
   "metadata": {},
   "outputs": [
    {
     "name": "stdout",
     "output_type": "stream",
     "text": [
      "bear|bcar"
     ]
    }
   ],
   "source": [
    "// 如果想实现拷贝功能可以这样\n",
    "char animal[20] = \"bear\";\n",
    "char *ps = new char[strlen(animal)+1];\n",
    "// 然后这样拷贝\n",
    "strcpy(ps,animal);\n",
    "animal[1] = 'c';\n",
    "cout<<ps<<\"|\"<<animal;"
   ]
  },
  {
   "cell_type": "code",
   "execution_count": 7,
   "id": "8de41a22",
   "metadata": {},
   "outputs": [
    {
     "name": "stdout",
     "output_type": "stream",
     "text": [
      "10\n",
      "10"
     ]
    }
   ],
   "source": [
    "// 我们也可以使用new来创建动态结构\n",
    "struct people {\n",
    "    int age;\n",
    "};\n",
    "// 这样新建对象\n",
    "people * ps = new people;\n",
    "// 这样访问对象\n",
    "ps->age = 10;\n",
    "cout<<ps->age<<endl;\n",
    "// 当然也可以这样\n",
    "cout<<(*ps).age;"
   ]
  },
  {
   "cell_type": "markdown",
   "id": "a4e00743",
   "metadata": {},
   "source": [
    "根据用于分配内存的方法，C++有3种管理数据内存的方式：自动\n",
    "存储、静态存储和动态存储（有时也叫作自由存储空间或堆）。"
   ]
  },
  {
   "cell_type": "code",
   "execution_count": 8,
   "id": "57e12449",
   "metadata": {},
   "outputs": [],
   "source": [
    "// 函数内部定义的常规变量都是自动存储的\n",
    "// 我们可以用下面这个来定义一个静态存储的变量\n",
    "static double fee = 56.50;"
   ]
  },
  {
   "cell_type": "code",
   "execution_count": 9,
   "id": "e985da69",
   "metadata": {},
   "outputs": [],
   "source": [
    "// 动态存储就是我们使用new来初始化的变量"
   ]
  },
  {
   "cell_type": "markdown",
   "id": "881bc7a2",
   "metadata": {},
   "source": [
    "## 4.9 类型组合\n",
    "## 4.10 数组的替代品"
   ]
  },
  {
   "cell_type": "code",
   "execution_count": 4,
   "id": "00e59b40",
   "metadata": {},
   "outputs": [],
   "source": [
    "// 下面简单介绍一下模板类\n",
    "#include <vector>\n",
    "#include <iostream>"
   ]
  },
  {
   "cell_type": "code",
   "execution_count": 5,
   "id": "1dade78a",
   "metadata": {},
   "outputs": [],
   "source": [
    "using namespace std;\n",
    "// 创建一个大小为0的容器\n",
    "vector<int> vi;\n",
    "// 创建一个固定大小的容器\n",
    "vector<int> vd(10);"
   ]
  },
  {
   "cell_type": "code",
   "execution_count": 7,
   "id": "c6c6fde1",
   "metadata": {},
   "outputs": [],
   "source": [
    "// 下面我们看一下模板类array\n",
    "#include <array>"
   ]
  },
  {
   "cell_type": "code",
   "execution_count": 8,
   "id": "628be04b",
   "metadata": {},
   "outputs": [],
   "source": [
    "// 创建一个大小为5的array\n",
    "array<int,5> ai;\n",
    "// 初始化一个默认的array\n",
    "array<double,4> ad = {1.3,2.1,3.43,4.3};"
   ]
  },
  {
   "cell_type": "code",
   "execution_count": 9,
   "id": "db337a82",
   "metadata": {},
   "outputs": [
    {
     "name": "stdout",
     "output_type": "stream",
     "text": [
      "3.43"
     ]
    }
   ],
   "source": [
    "cout<<ad[2];"
   ]
  },
  {
   "cell_type": "code",
   "execution_count": null,
   "id": "3626c0da",
   "metadata": {},
   "outputs": [],
   "source": []
  }
 ],
 "metadata": {
  "kernelspec": {
   "display_name": "C++17",
   "language": "C++17",
   "name": "xcpp17"
  },
  "language_info": {
   "codemirror_mode": "text/x-c++src",
   "file_extension": ".cpp",
   "mimetype": "text/x-c++src",
   "name": "c++",
   "version": "17"
  }
 },
 "nbformat": 4,
 "nbformat_minor": 5
}
