{
 "cells": [
  {
   "cell_type": "code",
   "execution_count": 1,
   "id": "85be3792",
   "metadata": {},
   "outputs": [],
   "source": [
    "#include <iostream>\n",
    "using namespace std;"
   ]
  },
  {
   "cell_type": "markdown",
   "id": "1abbd9d7",
   "metadata": {},
   "source": [
    "## 13.1 一个简单的基类"
   ]
  },
  {
   "cell_type": "code",
   "execution_count": null,
   "id": "d6d765f3",
   "metadata": {},
   "outputs": [],
   "source": [
    "// 我们先创建一个非常简单的类\n",
    "class Person{\n",
    "    private:\n",
    "        int age;\n",
    "    public: \n",
    "        Person(int a){age=a;};\n",
    "        void show(){cout<<age;};\n",
    "}"
   ]
  },
  {
   "cell_type": "code",
   "execution_count": null,
   "id": "e4c4d03e",
   "metadata": {},
   "outputs": [],
   "source": [
    "// 下面我们来派生一个类\n",
    "class Child: public Person{\n",
    "    public:\n",
    "        string school;\n",
    "        Child(int age,string sc);\n",
    "}"
   ]
  },
  {
   "cell_type": "code",
   "execution_count": null,
   "id": "5fd9764b",
   "metadata": {},
   "outputs": [],
   "source": [
    "// 派生类可以这样触发基类的构造函数\n",
    "// 这里会把age传递给Person这个基类的构造方法\n",
    "// 派生类不能访问基类的私有属性\n",
    "Child::Child(int age,string sc):Person(age){\n",
    "    school = sc;\n",
    "}"
   ]
  },
  {
   "cell_type": "code",
   "execution_count": null,
   "id": "a64fcefd",
   "metadata": {},
   "outputs": [],
   "source": [
    "// 派生类可以使用基类的方法\n",
    "Child a(65,\"xiao\");\n",
    "a.show();"
   ]
  },
  {
   "cell_type": "code",
   "execution_count": null,
   "id": "4f3067ab",
   "metadata": {},
   "outputs": [],
   "source": [
    "// 基类指针可以直接指向派生类\n",
    "Person *b =&a;\n",
    "b->show();"
   ]
  },
  {
   "cell_type": "code",
   "execution_count": null,
   "id": "ffeb59b7",
   "metadata": {},
   "outputs": [],
   "source": [
    "// 基类引用也是一样的\n",
    "Person &c = a;\n",
    "c.show();"
   ]
  },
  {
   "cell_type": "code",
   "execution_count": null,
   "id": "86b1652d",
   "metadata": {},
   "outputs": [],
   "source": [
    "// 但是基类不能访问派生类的内容\n",
    "Person &d = a;\n",
    "cout<<d.school;"
   ]
  },
  {
   "cell_type": "code",
   "execution_count": null,
   "id": "0b7e5c65",
   "metadata": {},
   "outputs": [],
   "source": [
    "// 派生类可以正常访问\n",
    "cout<<a.school;"
   ]
  },
  {
   "cell_type": "code",
   "execution_count": null,
   "id": "94c735e8",
   "metadata": {},
   "outputs": [],
   "source": [
    "// 不可以把基类转换为派生类\n",
    "Person e(41);\n",
    "e.show();"
   ]
  },
  {
   "cell_type": "code",
   "execution_count": null,
   "id": "8deca4ae",
   "metadata": {},
   "outputs": [],
   "source": [
    "// 下面这个会报错\n",
    "Child &f = e; "
   ]
  },
  {
   "cell_type": "markdown",
   "id": "8281a515",
   "metadata": {},
   "source": [
    "## 13.2 基础 is-a 关系\n",
    "\n",
    "C++有3种继承方式：公有继承、保护继承和私有继承。"
   ]
  },
  {
   "cell_type": "markdown",
   "id": "86465fcc",
   "metadata": {},
   "source": [
    "## 13.3 多态公有继承"
   ]
  },
  {
   "cell_type": "code",
   "execution_count": 2,
   "id": "604525f2",
   "metadata": {},
   "outputs": [],
   "source": [
    "class Person{\n",
    "    private:\n",
    "        int age;\n",
    "    public: \n",
    "        Person(int a){age=a;};\n",
    "        void show(){cout<<age;};\n",
    "        // 我们给这个父类添加一个虚函数\n",
    "        virtual void test(){cout<<\"virtual!\";};\n",
    "}"
   ]
  },
  {
   "cell_type": "code",
   "execution_count": 3,
   "id": "1bccd60c",
   "metadata": {},
   "outputs": [],
   "source": [
    "class child1:public Person{\n",
    "    public:\n",
    "        child1(int age);\n",
    "        // 这里让我们的派生类去实现虚方法\n",
    "        void test(){cout<<\"child!!\";}\n",
    "}"
   ]
  },
  {
   "cell_type": "code",
   "execution_count": 4,
   "id": "85c08e74",
   "metadata": {},
   "outputs": [],
   "source": [
    "// 派生类实现方法\n",
    "child1::child1(int age):Person(age){}"
   ]
  },
  {
   "cell_type": "code",
   "execution_count": 5,
   "id": "1b4608de",
   "metadata": {},
   "outputs": [
    {
     "name": "stdout",
     "output_type": "stream",
     "text": [
      "40child!!"
     ]
    }
   ],
   "source": [
    "// 这里我们声明一个派生类\n",
    "child1 a = child1(40);\n",
    "a.show();\n",
    "a.test();"
   ]
  },
  {
   "cell_type": "code",
   "execution_count": 6,
   "id": "bca5233b",
   "metadata": {},
   "outputs": [
    {
     "name": "stdout",
     "output_type": "stream",
     "text": [
      "child!!"
     ]
    }
   ],
   "source": [
    "// 然后我们使用基类来声明，这样基类就可以使用派生类的方法了\n",
    "child1 b = child1(40);\n",
    "Person *c= &b;\n",
    "c->test();"
   ]
  },
  {
   "cell_type": "code",
   "execution_count": 8,
   "id": "548a847f",
   "metadata": {},
   "outputs": [
    {
     "name": "stderr",
     "output_type": "stream",
     "text": [
      "\u001b[1minput_line_15:3:8: \u001b[0m\u001b[0;1;31merror: \u001b[0m\u001b[1mno viable conversion from '__cling_N52::Person' to '__cling_N53::child1'\u001b[0m\n",
      "child1 e = (Person)d;\n",
      "\u001b[0;1;32m       ^   ~~~~~~~~~\n",
      "\u001b[0m\u001b[1minput_line_10:1:7: \u001b[0m\u001b[0;1;30mnote: \u001b[0mcandidate constructor (the implicit copy constructor) not viable: cannot bind base class object of type '__cling_N52::Person' to derived class reference 'const __cling_N53::child1 &' for 1st argument\u001b[0m\n",
      "class child1:public Person{\n",
      "\u001b[0;1;32m      ^\n",
      "\u001b[0m\u001b[1minput_line_10:1:7: \u001b[0m\u001b[0;1;30mnote: \u001b[0mcandidate constructor (the implicit move constructor) not viable: cannot bind base class object of type '__cling_N52::Person' to derived class reference '__cling_N53::child1 &&' for 1st argument\u001b[0m\n",
      "\u001b[1minput_line_11:2:9: \u001b[0m\u001b[0;1;30mnote: \u001b[0mcandidate constructor not viable: no known conversion from '__cling_N52::Person' to 'int' for 1st argument\u001b[0m\n",
      "child1::child1(int age):Person(age){}\n",
      "\u001b[0;1;32m        ^\n",
      "\u001b[0m"
     ]
    },
    {
     "ename": "Interpreter Error",
     "evalue": "",
     "output_type": "error",
     "traceback": [
      "Interpreter Error: "
     ]
    }
   ],
   "source": [
    "Person d = Person(24);\n",
    "child1 e = (Person)d;"
   ]
  },
  {
   "cell_type": "markdown",
   "id": "ad833d24",
   "metadata": {},
   "source": [
    "## 13.4 静态联编和动态联编"
   ]
  },
  {
   "cell_type": "markdown",
   "id": "484ef125",
   "metadata": {},
   "source": [
    "## 13.5 访问控制 protected\n",
    "关键字protected与private相似，在类外只能用公有类成\n",
    "员来访问protected部分中的类成员。private和protected之间的区别只有\n",
    "在基类派生的类中才会表现出来。\n",
    "\n",
    "派生类的成员可以直接访问基类的保\n",
    "护成员，但不能直接访问基类的私有成员。因此，对于外部世界来说，\n",
    "保护成员的行为与私有成员相似；但对于派生类来说，保护成员的行为\n",
    "与公有成员相似。"
   ]
  },
  {
   "cell_type": "code",
   "execution_count": 10,
   "id": "b3fd3eb4",
   "metadata": {},
   "outputs": [],
   "source": [
    "class Person{\n",
    "    protected:\n",
    "        int age;\n",
    "}"
   ]
  },
  {
   "cell_type": "code",
   "execution_count": 11,
   "id": "2f15709d",
   "metadata": {},
   "outputs": [],
   "source": [
    "// 然后我们写一个子类,子类可以访问基类的方法\n",
    "class Child:public Person{\n",
    "    public:\n",
    "        Child(int a){age=a;}\n",
    "        void show()const{cout<<age;}\n",
    "}"
   ]
  },
  {
   "cell_type": "code",
   "execution_count": 12,
   "id": "904eabae",
   "metadata": {},
   "outputs": [
    {
     "name": "stdout",
     "output_type": "stream",
     "text": [
      "40"
     ]
    }
   ],
   "source": [
    "Child a(40);\n",
    "a.show();"
   ]
  },
  {
   "cell_type": "code",
   "execution_count": 16,
   "id": "2d304cff",
   "metadata": {},
   "outputs": [
    {
     "name": "stderr",
     "output_type": "stream",
     "text": [
      "\u001b[1minput_line_23:4:9: \u001b[0m\u001b[0;1;31merror: \u001b[0m\u001b[1m'age' is a protected member of '__cling_N510::Person'\u001b[0m\n",
      "cout<<c.age;\n",
      "\u001b[0;1;32m        ^\n",
      "\u001b[0m\u001b[1minput_line_17:3:13: \u001b[0m\u001b[0;1;30mnote: \u001b[0mdeclared protected here\u001b[0m\n",
      "        int age;\n",
      "\u001b[0;1;32m            ^\n",
      "\u001b[0m"
     ]
    },
    {
     "ename": "Interpreter Error",
     "evalue": "",
     "output_type": "error",
     "traceback": [
      "Interpreter Error: "
     ]
    }
   ],
   "source": [
    "// 但是外部的类不能访问\n",
    "Person c;\n",
    "cout<<c.age;"
   ]
  },
  {
   "cell_type": "markdown",
   "id": "a8c599aa",
   "metadata": {},
   "source": [
    "## 13.6 抽象基类"
   ]
  },
  {
   "cell_type": "code",
   "execution_count": 24,
   "id": "42090d66",
   "metadata": {},
   "outputs": [],
   "source": [
    "// 比如我们这里定义了一个抽象类\n",
    "class person{\n",
    "    protected:\n",
    "        int age;\n",
    "    public:\n",
    "        // 把原型声明为虚的，设置=0，这样这个类就变成抽象类了\n",
    "        virtual void show()=0;\n",
    "}"
   ]
  },
  {
   "cell_type": "code",
   "execution_count": 26,
   "id": "daf92a14",
   "metadata": {},
   "outputs": [
    {
     "name": "stderr",
     "output_type": "stream",
     "text": [
      "\u001b[1minput_line_33:3:8: \u001b[0m\u001b[0;1;31merror: \u001b[0m\u001b[1mvariable type '__cling_N524::person' is an abstract class\u001b[0m\n",
      "person a;\n",
      "\u001b[0;1;32m       ^\n",
      "\u001b[0m"
     ]
    },
    {
     "ename": "Interpreter Error",
     "evalue": "",
     "output_type": "error",
     "traceback": [
      "Interpreter Error: "
     ]
    }
   ],
   "source": [
    "// 这个时候，我们就不能去初始化抽象类了\n",
    "person a;"
   ]
  },
  {
   "cell_type": "code",
   "execution_count": 29,
   "id": "0a458d23",
   "metadata": {},
   "outputs": [],
   "source": [
    "// 但是我们可以定义派生类来实现基类的方法\n",
    "class child:public person{\n",
    "    public:\n",
    "        child(int a){age=a;};\n",
    "        void show(){cout<<age;};\n",
    "}"
   ]
  },
  {
   "cell_type": "code",
   "execution_count": 28,
   "id": "bf1beab7",
   "metadata": {},
   "outputs": [
    {
     "name": "stdout",
     "output_type": "stream",
     "text": [
      "10"
     ]
    }
   ],
   "source": [
    "child a=child(10);\n",
    "a.show();"
   ]
  },
  {
   "cell_type": "code",
   "execution_count": null,
   "id": "dac60d44",
   "metadata": {},
   "outputs": [],
   "source": []
  }
 ],
 "metadata": {
  "kernelspec": {
   "display_name": "C++17",
   "language": "C++17",
   "name": "xcpp17"
  },
  "language_info": {
   "codemirror_mode": "text/x-c++src",
   "file_extension": ".cpp",
   "mimetype": "text/x-c++src",
   "name": "c++",
   "version": "17"
  }
 },
 "nbformat": 4,
 "nbformat_minor": 5
}
