{
 "cells": [
  {
   "cell_type": "code",
   "execution_count": 1,
   "id": "07bbb8f3",
   "metadata": {},
   "outputs": [],
   "source": [
    "#include<iostream>\n",
    "#include<array>\n",
    "#include<string>\n",
    "using namespace std;"
   ]
  },
  {
   "cell_type": "markdown",
   "id": "6122a03e",
   "metadata": {},
   "source": [
    "## 7.1 定义函数"
   ]
  },
  {
   "cell_type": "code",
   "execution_count": 3,
   "id": "3d4ae95d",
   "metadata": {},
   "outputs": [
    {
     "name": "stdout",
     "output_type": "stream",
     "text": [
      "66"
     ]
    }
   ],
   "source": [
    "void cheers(int n){\n",
    "    cout<<n;\n",
    "}\n",
    "cheers(66);"
   ]
  },
  {
   "cell_type": "code",
   "execution_count": 4,
   "id": "1d515484",
   "metadata": {},
   "outputs": [
    {
     "name": "stdout",
     "output_type": "stream",
     "text": [
      "5"
     ]
    }
   ],
   "source": [
    "// 带返回值\n",
    "int bigger(int a,int b){\n",
    "    if(a>b)\n",
    "        return a;\n",
    "    else\n",
    "        return b;\n",
    "}\n",
    "cout<<bigger(4,5);"
   ]
  },
  {
   "cell_type": "code",
   "execution_count": 5,
   "id": "f2b414b8",
   "metadata": {},
   "outputs": [],
   "source": [
    "// 函数原型定义\n",
    "int bigger(int a,int b);"
   ]
  },
  {
   "cell_type": "code",
   "execution_count": 6,
   "id": "4284f2ee",
   "metadata": {},
   "outputs": [],
   "source": [
    "// 原型可以不提供变量名\n",
    "int bigger(int a);"
   ]
  },
  {
   "cell_type": "code",
   "execution_count": 7,
   "id": "2271a72d",
   "metadata": {},
   "outputs": [
    {
     "name": "stdout",
     "output_type": "stream",
     "text": [
      "0x7fe4aad7d02c\n",
      "0x7ffe3393b8cc"
     ]
    }
   ],
   "source": [
    "// c++会按照参数来传递，所以我们传进一个值会拷贝一份\n",
    "void showp(int a){\n",
    "    cout<<&a;\n",
    "}\n",
    "int b = 10;\n",
    "cout<<&b<<endl;\n",
    "showp(b);"
   ]
  },
  {
   "cell_type": "markdown",
   "id": "b2dd349e",
   "metadata": {},
   "source": [
    "## 7.3 函数和数组"
   ]
  },
  {
   "cell_type": "code",
   "execution_count": 3,
   "id": "69a2fea9",
   "metadata": {},
   "outputs": [
    {
     "name": "stdout",
     "output_type": "stream",
     "text": [
      "2"
     ]
    }
   ],
   "source": [
    "// 下面我们把数组作为参数传递给函数\n",
    "void sum(int arr[],int n){\n",
    "    cout<<arr[1];\n",
    "}\n",
    "int arr[3] = {1,2,3};\n",
    "sum(arr,3);"
   ]
  },
  {
   "cell_type": "code",
   "execution_count": 4,
   "id": "1cda815d",
   "metadata": {},
   "outputs": [
    {
     "name": "stdout",
     "output_type": "stream",
     "text": [
      "2"
     ]
    }
   ],
   "source": [
    "// 这样也是可以的\n",
    "sum(&arr[0],3);"
   ]
  },
  {
   "cell_type": "code",
   "execution_count": 5,
   "id": "a956f132",
   "metadata": {},
   "outputs": [
    {
     "name": "stdout",
     "output_type": "stream",
     "text": [
      "3"
     ]
    }
   ],
   "source": [
    "// 这样也可以\n",
    "sum(arr+1,3);"
   ]
  },
  {
   "cell_type": "code",
   "execution_count": 6,
   "id": "fa1045b1",
   "metadata": {},
   "outputs": [
    {
     "name": "stdout",
     "output_type": "stream",
     "text": [
      "2"
     ]
    }
   ],
   "source": [
    "// 所以这个实际上就是传了指针，正确的函数头应该是这样的\n",
    "void sum(int * arr,int n){\n",
    "    cout<<arr[1];\n",
    "}\n",
    "int arr[3] = {1,2,3};\n",
    "sum(arr,3);"
   ]
  },
  {
   "cell_type": "code",
   "execution_count": 7,
   "id": "13e205ac",
   "metadata": {},
   "outputs": [
    {
     "name": "stdout",
     "output_type": "stream",
     "text": [
      "2\n",
      "5\n"
     ]
    }
   ],
   "source": [
    "// 注意，因为数组传的是指针，所以我们函数里面修改值会对我们的外面的内容有影响\n",
    "void change(int * arr){\n",
    "    arr[1] = 5;\n",
    "}\n",
    "int arr[3] = {1,2,3};\n",
    "cout<<arr[1]<<endl;\n",
    "change(arr);\n",
    "cout<<arr[1]<<endl;"
   ]
  },
  {
   "cell_type": "code",
   "execution_count": 8,
   "id": "492f4495",
   "metadata": {},
   "outputs": [
    {
     "name": "stderr",
     "output_type": "stream",
     "text": [
      "\u001b[1minput_line_15:3:12: \u001b[0m\u001b[0;1;31merror: \u001b[0m\u001b[1mread-only variable is not assignable\u001b[0m\n",
      "    arr[1] = 5;\n",
      "\u001b[0;1;32m    ~~~~~~ ^\n",
      "\u001b[0m"
     ]
    },
    {
     "ename": "Interpreter Error",
     "evalue": "",
     "output_type": "error",
     "traceback": [
      "Interpreter Error: "
     ]
    }
   ],
   "source": [
    "// 为了防止数组里面的值被修改，我就可以这样\n",
    "void change(const int arr[]){\n",
    "    arr[1] = 5;\n",
    "}\n",
    "int arr[3] = {1,2,3};\n",
    "change(arr);"
   ]
  },
  {
   "cell_type": "code",
   "execution_count": 9,
   "id": "ffda1a90",
   "metadata": {},
   "outputs": [
    {
     "name": "stderr",
     "output_type": "stream",
     "text": [
      "\u001b[1minput_line_16:5:4: \u001b[0m\u001b[0;1;31merror: \u001b[0m\u001b[1mread-only variable is not assignable\u001b[0m\n",
      "*pt+=1;\n",
      "\u001b[0;1;32m~~~^\n",
      "\u001b[0m"
     ]
    },
    {
     "ename": "Interpreter Error",
     "evalue": "",
     "output_type": "error",
     "traceback": [
      "Interpreter Error: "
     ]
    }
   ],
   "source": [
    "// 指针常量不能修改\n",
    "int age = 39;\n",
    "const int *pt = &age;\n",
    "*pt+=1;"
   ]
  },
  {
   "cell_type": "code",
   "execution_count": 10,
   "id": "6c76590d",
   "metadata": {},
   "outputs": [
    {
     "name": "stdout",
     "output_type": "stream",
     "text": [
      "40"
     ]
    }
   ],
   "source": [
    "//但是我们可以修改age\n",
    "int age = 39;\n",
    "const int *pt = &age;\n",
    "age = 40;\n",
    "cout<<*pt;"
   ]
  },
  {
   "cell_type": "code",
   "execution_count": 11,
   "id": "88a930ae",
   "metadata": {},
   "outputs": [
    {
     "name": "stderr",
     "output_type": "stream",
     "text": [
      "\u001b[1minput_line_18:4:8: \u001b[0m\u001b[0;1;31merror: \u001b[0m\u001b[1mcannot initialize a variable of type 'float *' with an rvalue of type 'const float *'\u001b[0m\n",
      "float *pm=&mon;\n",
      "\u001b[0;1;32m       ^  ~~~~\n",
      "\u001b[0m"
     ]
    },
    {
     "ename": "Interpreter Error",
     "evalue": "",
     "output_type": "error",
     "traceback": [
      "Interpreter Error: "
     ]
    }
   ],
   "source": [
    "// 注意常量变量的指针不能修改\n",
    "const float mon = 1.63;\n",
    "float *pm=&mon;"
   ]
  },
  {
   "cell_type": "code",
   "execution_count": 12,
   "id": "6a39c8ed",
   "metadata": {},
   "outputs": [],
   "source": [
    "// 但是下面这种的可以\n",
    "const float mon = 1.63;\n",
    "const float *pm=&mon;"
   ]
  },
  {
   "cell_type": "markdown",
   "id": "f242eda3",
   "metadata": {},
   "source": [
    "## 7.4 函数和二维数组"
   ]
  },
  {
   "cell_type": "code",
   "execution_count": 11,
   "id": "1d0db132",
   "metadata": {},
   "outputs": [],
   "source": [
    "// 我们可以这样定义函数\n",
    "int sum1(int arr2[][4],int size)\n",
    "{\n",
    "    int total=0;\n",
    "    for(int r=0;r<size;r++)\n",
    "        for(int c=0;c<4;c++)\n",
    "            total+=arr2[r][c];\n",
    "    return total;\n",
    "}"
   ]
  },
  {
   "cell_type": "code",
   "execution_count": 12,
   "id": "f97819a6",
   "metadata": {},
   "outputs": [
    {
     "name": "stdout",
     "output_type": "stream",
     "text": [
      "60"
     ]
    }
   ],
   "source": [
    "int data[3][4] = {{1,2,3,4},{9,8,7,6},{2,4,6,8}};\n",
    "cout<<sum1(data,3);"
   ]
  },
  {
   "cell_type": "markdown",
   "id": "9b89fcdb",
   "metadata": {},
   "source": [
    "## 7.5 函数和c风格的字符串"
   ]
  },
  {
   "cell_type": "code",
   "execution_count": null,
   "id": "3036d1df",
   "metadata": {},
   "outputs": [],
   "source": [
    "// 字符串有下面三种表示方式\n",
    "char ghost[15] = \"galloping\";\n",
    "char * str = \"galloping\";\n",
    "// 直接使用双引号表示"
   ]
  },
  {
   "cell_type": "code",
   "execution_count": 6,
   "id": "f5245b34",
   "metadata": {},
   "outputs": [],
   "source": [
    "// 字符串会有结束符/0，我们可以这样\n",
    "void show(const char *str){\n",
    "    // 这里当字符串遇到/0时会直接返回0\n",
    "    while(*str){\n",
    "        cout<<*str<<\" \";\n",
    "        str++;\n",
    "    }\n",
    "}"
   ]
  },
  {
   "cell_type": "code",
   "execution_count": 7,
   "id": "57ea0dcc",
   "metadata": {},
   "outputs": [
    {
     "name": "stdout",
     "output_type": "stream",
     "text": [
      "g a l l o p i n g "
     ]
    }
   ],
   "source": [
    "const char *str = \"galloping\";\n",
    "show(str);"
   ]
  },
  {
   "cell_type": "code",
   "execution_count": 8,
   "id": "d228148a",
   "metadata": {},
   "outputs": [
    {
     "name": "stderr",
     "output_type": "stream",
     "text": [
      "\u001b[1minput_line_16:3:17: \u001b[0m\u001b[0;1;35mwarning: \u001b[0m\u001b[1mISO C++11 does not allow conversion from string literal to 'char *' [-Wwritable-strings]\u001b[0m\n",
      "    char *str = \"666\";\n",
      "\u001b[0;1;32m                ^\n",
      "\u001b[0m"
     ]
    },
    {
     "name": "stdout",
     "output_type": "stream",
     "text": [
      "666"
     ]
    }
   ],
   "source": [
    "// 程序返回字符串\n",
    "char * buildstr(){\n",
    "    char *str = \"666\";\n",
    "    return str;\n",
    "}\n",
    "cout<<buildstr();"
   ]
  },
  {
   "cell_type": "markdown",
   "id": "2e5f32b9",
   "metadata": {},
   "source": [
    "## 7.6 函数和结构"
   ]
  },
  {
   "cell_type": "code",
   "execution_count": 3,
   "id": "aa36666b",
   "metadata": {},
   "outputs": [],
   "source": [
    "struct people {\n",
    "    int house;\n",
    "    int mins;\n",
    "};"
   ]
  },
  {
   "cell_type": "code",
   "execution_count": 4,
   "id": "604eb7cf",
   "metadata": {},
   "outputs": [],
   "source": [
    "// 函数里面的结构体可以这样使用\n",
    "people sum(people p1,people p2){\n",
    "    int sum = p1.house+p2.mins;\n",
    "    people p = {sum,0};\n",
    "    return p;\n",
    "}"
   ]
  },
  {
   "cell_type": "code",
   "execution_count": 5,
   "id": "a0340272",
   "metadata": {},
   "outputs": [
    {
     "name": "stdout",
     "output_type": "stream",
     "text": [
      "4"
     ]
    }
   ],
   "source": [
    "people p1={1,2};\n",
    "people p2={2,3};\n",
    "people p3=sum(p1,p2);\n",
    "cout<<p3.house;"
   ]
  },
  {
   "cell_type": "code",
   "execution_count": 6,
   "id": "b3874ff2",
   "metadata": {},
   "outputs": [
    {
     "name": "stdout",
     "output_type": "stream",
     "text": [
      "1"
     ]
    }
   ],
   "source": [
    "// 默认传结构体是使用复制的方式，函数里面修改不影响外面\n",
    "void sum(people p1){\n",
    "    p1.house = 10;\n",
    "}\n",
    "people p1={1,2};\n",
    "sum(p1);\n",
    "cout<<p1.house;"
   ]
  },
  {
   "cell_type": "code",
   "execution_count": 7,
   "id": "f3058cf2",
   "metadata": {},
   "outputs": [
    {
     "name": "stdout",
     "output_type": "stream",
     "text": [
      "10"
     ]
    }
   ],
   "source": [
    "// 我们可以传地址，这样就可以修改了\n",
    "void sum(people *p1){\n",
    "    p1->house = 10;\n",
    "}\n",
    "people p1={1,2};\n",
    "sum(&p1);\n",
    "cout<<p1.house;"
   ]
  },
  {
   "cell_type": "code",
   "execution_count": 8,
   "id": "968c72fb",
   "metadata": {},
   "outputs": [
    {
     "name": "stderr",
     "output_type": "stream",
     "text": [
      "\u001b[1minput_line_15:2:15: \u001b[0m\u001b[0;1;31merror: \u001b[0m\u001b[1mcannot assign to variable 'p1' with const-qualified type 'const __cling_N53::people *'\u001b[0m\n",
      "    p1->house = 10;\n",
      "\u001b[0;1;32m    ~~~~~~~~~ ^\n",
      "\u001b[0m\u001b[1minput_line_15:1:24: \u001b[0m\u001b[0;1;30mnote: \u001b[0mvariable 'p1' declared const here\u001b[0m\n",
      "void sum(const people *p1){\n",
      "\u001b[0;1;32m         ~~~~~~~~~~~~~~^~\n",
      "\u001b[0m"
     ]
    },
    {
     "ename": "Interpreter Error",
     "evalue": "",
     "output_type": "error",
     "traceback": [
      "Interpreter Error: "
     ]
    }
   ],
   "source": [
    "// 如果是const就表示我们不能去修改\n",
    "\n",
    "void sum(const people *p1){\n",
    "    p1->house = 10;\n",
    "}\n",
    "people p1={1,2};\n",
    "sum(&p1);\n",
    "cout<<p1.house;"
   ]
  },
  {
   "cell_type": "markdown",
   "id": "4266f9d6",
   "metadata": {},
   "source": [
    "## 7.7 函数和string对象"
   ]
  },
  {
   "cell_type": "code",
   "execution_count": 2,
   "id": "bde97de7",
   "metadata": {},
   "outputs": [
    {
     "name": "stdout",
     "output_type": "stream",
     "text": [
      "1:123\n",
      "2:456\n",
      "3:789\n"
     ]
    }
   ],
   "source": [
    "// 函数可以传递strin对象\n",
    "void display(const string sa[],int n){\n",
    "    for(int i=0;i<n;i++){\n",
    "        cout<<i+1<<\":\"<<sa[i]<<endl;\n",
    "    }\n",
    "}\n",
    "// 我们可以使用下面这种方式来创建多个数组\n",
    "string slist[3]={\n",
    "    \"123\",\"456\",\"789\"\n",
    "};\n",
    "display(slist,3);"
   ]
  },
  {
   "cell_type": "markdown",
   "id": "07ca0dd9",
   "metadata": {},
   "source": [
    "## 7.8 函数与array对象"
   ]
  },
  {
   "cell_type": "code",
   "execution_count": 12,
   "id": "f1dd62ae",
   "metadata": {},
   "outputs": [],
   "source": [
    "void show2(std::array<std::string,4> * a){\n",
    "    for(int i=0;i<4;i++){\n",
    "        cout<<i+1<<\":\"<<(*a)[i]<<endl;\n",
    "    }\n",
    "}"
   ]
  },
  {
   "cell_type": "code",
   "execution_count": 13,
   "id": "e65b5346",
   "metadata": {},
   "outputs": [
    {
     "name": "stdout",
     "output_type": "stream",
     "text": [
      "1:spring\n",
      "2:summer\n",
      "3:fall\n",
      "4:winter\n"
     ]
    }
   ],
   "source": [
    "std::array<std::string,4> snames = {\"spring\",\"summer\",\"fall\",\"winter\"};\n",
    "show2(&snames);"
   ]
  },
  {
   "cell_type": "markdown",
   "id": "4045c4bb",
   "metadata": {},
   "source": [
    "## 7.9 递归"
   ]
  },
  {
   "cell_type": "code",
   "execution_count": 15,
   "id": "0102b8a3",
   "metadata": {},
   "outputs": [
    {
     "name": "stdout",
     "output_type": "stream",
     "text": [
      "5050"
     ]
    }
   ],
   "source": [
    "// 使用递归来计算累加和\n",
    "int sum(int n){\n",
    "    if(n==0) return 0;\n",
    "    return n + sum(n-1);\n",
    "}\n",
    "cout<<sum(100);"
   ]
  },
  {
   "cell_type": "markdown",
   "id": "7cc2cc8d",
   "metadata": {},
   "source": [
    "## 7.10 函数指针"
   ]
  },
  {
   "cell_type": "code",
   "execution_count": 2,
   "id": "42227507",
   "metadata": {},
   "outputs": [
    {
     "name": "stdout",
     "output_type": "stream",
     "text": [
      "7\n",
      "7\n"
     ]
    }
   ],
   "source": [
    "// 我们先定义一个函数\n",
    "int sum(int a,int b){\n",
    "    return a+b;\n",
    "}\n",
    "// 函数指针定义如下\n",
    "int (*ps)(int,int);\n",
    "// 给函数指针赋值上我们的函数\n",
    "ps=sum;\n",
    "// 调用我们的函数指针\n",
    "cout<< (*ps)(3,4)<<endl;\n",
    "// 也可以这样直接使用\n",
    "cout<<ps(3,4)<<endl;"
   ]
  },
  {
   "cell_type": "code",
   "execution_count": 3,
   "id": "e2ba3504",
   "metadata": {},
   "outputs": [],
   "source": [
    "// 我们可以使用typedef来简化类型\n",
    "typedef int (*myfunc)(int,int);"
   ]
  },
  {
   "cell_type": "code",
   "execution_count": 4,
   "id": "47949eca",
   "metadata": {},
   "outputs": [
    {
     "name": "stdout",
     "output_type": "stream",
     "text": [
      "9"
     ]
    }
   ],
   "source": [
    "void call(myfunc f,int a,int b){\n",
    "   cout<<f(a,b);\n",
    "}\n",
    "call(sum,4,5);"
   ]
  },
  {
   "attachments": {
    "image.png": {
     "image/png": "[encoded data removed]"
    }
   },
   "cell_type": "markdown",
   "id": "9c9369f7",
   "metadata": {},
   "source": [
    "## 7.11 \n",
    "\n",
    "函数是C++的编程模块。要使用函数，必须提供定义和原型，并调\n",
    "用该函数。函数定义是实现函数功能的代码；函数原型描述了函数的接\n",
    "口：传递给函数的值的数目和种类以及函数的返回类型。函数调用使得\n",
    "程序将参数传递给函数，并执行函数的代码。\n",
    "\n",
    "\n",
    "在默认情况下，C++函数按值传递参数。这意味着函数定义中的形\n",
    "参是新的变量，它们被初始化为函数调用所提供的值。因此，C++函数\n",
    "通过使用拷贝，保护了原始数据的完整性。\n",
    "\n",
    "\n",
    "C++将数组名参数视为数组第一个元素的地址。从技术上讲，这仍\n",
    "然是按值传递的，因为指针是原始地址的拷贝，但函数将使用指针来访\n",
    "问原始数组的内容。当且仅当声明函数的形参时，下面两个声明才是等\n",
    "价的：\n",
    "\n",
    "![image.png](attachment:image.png)\n",
    "\n",
    "这两个声明都表明，arr是指向typeName的指针，但在编写函数代\n",
    "码时，可以像使用数组名那样使用arr来访问元素：arr[i]。即使在传递指\n",
    "针时，也可以将形参声明为const指针，来保护原始数据的完整性。由于\n",
    "传递数据的地址时，并不会传输有关数组长度的信息，因此通常将数组\n",
    "长度作为独立的参数来传递。另外，也可传递两个指针（其中一个指向\n",
    "数组开头，另一个指向数组末尾的下一个元素），以指定一个范围，就\n",
    "像STL使用的算法一样。"
   ]
  },
  {
   "cell_type": "code",
   "execution_count": null,
   "id": "1fe90623",
   "metadata": {},
   "outputs": [],
   "source": []
  }
 ],
 "metadata": {
  "kernelspec": {
   "display_name": "C++17",
   "language": "C++17",
   "name": "xcpp17"
  },
  "language_info": {
   "codemirror_mode": "text/x-c++src",
   "file_extension": ".cpp",
   "mimetype": "text/x-c++src",
   "name": "c++",
   "version": "17"
  }
 },
 "nbformat": 4,
 "nbformat_minor": 5
}
