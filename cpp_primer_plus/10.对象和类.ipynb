{
 "cells": [
  {
   "cell_type": "code",
   "execution_count": 1,
   "id": "c2a58fd0",
   "metadata": {},
   "outputs": [],
   "source": [
    "#include<iostream>\n",
    "using namespace std;"
   ]
  },
  {
   "cell_type": "markdown",
   "id": "ebe890ff",
   "metadata": {},
   "source": [
    "## 10.2 抽象和类"
   ]
  },
  {
   "cell_type": "code",
   "execution_count": 2,
   "id": "5763fdbc",
   "metadata": {},
   "outputs": [],
   "source": [
    "// 类的定义一般有如下的形式，我们可以先定义好变量的类型\n",
    "class Stock{\n",
    "    // 一些私有的变量和方法\n",
    "    private:\n",
    "        std::string company;\n",
    "        double shares;\n",
    "        double share_val;\n",
    "        double total_val;\n",
    "        void set_tot(){total_val = shares*share_val;}\n",
    "    public:\n",
    "        void show();\n",
    "        void acquire(const std::string & co,double s,double v);\n",
    "}"
   ]
  },
  {
   "cell_type": "code",
   "execution_count": 3,
   "id": "867885d9",
   "metadata": {},
   "outputs": [],
   "source": [
    "// 下面我们可以实现这个类里面的方法\n",
    "void Stock::acquire(const std::string & co,double s,double v){\n",
    "    company = co;\n",
    "    shares = s;\n",
    "    share_val = v;\n",
    "    // 调用自己的私有函数\n",
    "    set_tot();\n",
    "}"
   ]
  },
  {
   "cell_type": "code",
   "execution_count": 4,
   "id": "a15649df",
   "metadata": {},
   "outputs": [],
   "source": [
    "// 再实现另外一个方法\n",
    "void Stock::show(){\n",
    "    cout<<company<<endl;\n",
    "    cout<<\"total=>\"<<total_val<<endl;\n",
    "}"
   ]
  },
  {
   "cell_type": "code",
   "execution_count": 5,
   "id": "1c20743c",
   "metadata": {},
   "outputs": [
    {
     "name": "stdout",
     "output_type": "stream",
     "text": [
      "xiaoyou\n",
      "total=>10.1\n"
     ]
    }
   ],
   "source": [
    "// 下面我们初始化这个类，传入参数并调用对应的方法\n",
    "Stock a;\n",
    "a.acquire(\"xiaoyou\",10.1,1.0);\n",
    "a.show()"
   ]
  },
  {
   "cell_type": "code",
   "execution_count": 6,
   "id": "9ebee66a",
   "metadata": {},
   "outputs": [
    {
     "name": "stdout",
     "output_type": "stream",
     "text": [
      "tom\n",
      "total=>22.55\n",
      "xiaoyou\n",
      "total=>10.1\n"
     ]
    }
   ],
   "source": [
    "// 我们创建另外一个，每个对象都有自己的数据，互不影响\n",
    "Stock b;\n",
    "b.acquire(\"tom\",20.5,1.1);\n",
    "b.show();\n",
    "a.show();"
   ]
  },
  {
   "cell_type": "markdown",
   "id": "14e5322f",
   "metadata": {},
   "source": [
    "## 10.3 构造函数和析构函数"
   ]
  },
  {
   "cell_type": "code",
   "execution_count": 15,
   "id": "2822295a",
   "metadata": {},
   "outputs": [],
   "source": [
    "// 我们先定义一个简单的类\n",
    "class Stock2{\n",
    "    private:\n",
    "        std::string m_company;\n",
    "    public:\n",
    "        Stock2(const string &company);\n",
    "        void show();\n",
    "};"
   ]
  },
  {
   "cell_type": "code",
   "execution_count": 18,
   "id": "2a32f350",
   "metadata": {},
   "outputs": [],
   "source": [
    "// 然后我们可以实现一下具体的构造方法\n",
    "Stock2::Stock2(const string &company){\n",
    "    m_company = company;\n",
    "}"
   ]
  },
  {
   "cell_type": "code",
   "execution_count": 19,
   "id": "cc7e9201",
   "metadata": {},
   "outputs": [],
   "source": [
    "void Stock2::show(){\n",
    "    cout<<m_company;\n",
    "}"
   ]
  },
  {
   "cell_type": "code",
   "execution_count": 21,
   "id": "177f54bb",
   "metadata": {},
   "outputs": [
    {
     "name": "stdout",
     "output_type": "stream",
     "text": [
      "xiaoyou"
     ]
    }
   ],
   "source": [
    "// 然后我们就可以这样来使用构造函数\n",
    "Stock2 st2 = Stock2(\"xiaoyou\");\n",
    "st2.show();"
   ]
  },
  {
   "cell_type": "code",
   "execution_count": 22,
   "id": "56eeddd9",
   "metadata": {},
   "outputs": [
    {
     "name": "stdout",
     "output_type": "stream",
     "text": [
      "xiaoyou66"
     ]
    }
   ],
   "source": [
    "// 也可以隐式的调用构造函数\n",
    "Stock2 st3(\"xiaoyou66\");\n",
    "st3.show();"
   ]
  },
  {
   "cell_type": "code",
   "execution_count": 23,
   "id": "10b5e123",
   "metadata": {},
   "outputs": [
    {
     "name": "stdout",
     "output_type": "stream",
     "text": [
      "xiao"
     ]
    }
   ],
   "source": [
    "// 也可以使用new来创建一个对象\n",
    "Stock2 *st4 = new Stock2(\"xiao\");\n",
    "st4->show();"
   ]
  },
  {
   "cell_type": "code",
   "execution_count": 24,
   "id": "2956aca4",
   "metadata": {
    "scrolled": false
   },
   "outputs": [
    {
     "name": "stderr",
     "output_type": "stream",
     "text": [
      "\u001b[1minput_line_31:3:8: \u001b[0m\u001b[0;1;31merror: \u001b[0m\u001b[1mno matching constructor for initialization of '__cling_N515::Stock2'\u001b[0m\n",
      "Stock2 st5;\n",
      "\u001b[0;1;32m       ^\n",
      "\u001b[0m\u001b[1minput_line_22:2:7: \u001b[0m\u001b[0;1;30mnote: \u001b[0mcandidate constructor (the implicit copy constructor) not viable: requires 1 argument, but 0 were provided\u001b[0m\n",
      "class Stock2{\n",
      "\u001b[0;1;32m      ^\n",
      "\u001b[0m\u001b[1minput_line_22:2:7: \u001b[0m\u001b[0;1;30mnote: \u001b[0mcandidate constructor (the implicit move constructor) not viable: requires 1 argument, but 0 were provided\u001b[0m\n",
      "\u001b[1minput_line_25:2:9: \u001b[0m\u001b[0;1;30mnote: \u001b[0mcandidate constructor not viable: requires single argument 'company', but no arguments were provided\u001b[0m\n",
      "Stock2::Stock2(const string &company){\n",
      "\u001b[0;1;32m        ^\n",
      "\u001b[0m"
     ]
    },
    {
     "ename": "Interpreter Error",
     "evalue": "",
     "output_type": "error",
     "traceback": [
      "Interpreter Error: "
     ]
    }
   ],
   "source": [
    "// 如果啥都不做的话会调用默认的构造方法，这里因为我们写了一个构造函数，所以这里调用会出错\n",
    "Stock2 st5;"
   ]
  },
  {
   "cell_type": "code",
   "execution_count": 25,
   "id": "6dc6ca0d",
   "metadata": {},
   "outputs": [],
   "source": [
    "// 默认情况下只能有一个构造函数\n",
    "// 如果是隐式调用构造函数那么就不需要使用原括号"
   ]
  },
  {
   "cell_type": "code",
   "execution_count": 2,
   "id": "81d9c419",
   "metadata": {},
   "outputs": [],
   "source": [
    "// 析构函数是拿来做清理工作用的\n",
    "class Stock3{\n",
    "    private:\n",
    "        std::string m_company;\n",
    "    public:\n",
    "        Stock3(const string &company);\n",
    "        // 下面这个就是析构函数\n",
    "        ~Stock3();\n",
    "        void show();\n",
    "};"
   ]
  },
  {
   "cell_type": "code",
   "execution_count": 3,
   "id": "6fcf73fd",
   "metadata": {},
   "outputs": [],
   "source": [
    "Stock3::Stock3(const string &company){\n",
    "    m_company = company;\n",
    "}"
   ]
  },
  {
   "cell_type": "code",
   "execution_count": 4,
   "id": "dce2cc15",
   "metadata": {},
   "outputs": [],
   "source": [
    "void Stock3::show(){\n",
    "    cout<<m_company;\n",
    "}"
   ]
  },
  {
   "cell_type": "code",
   "execution_count": 5,
   "id": "60ed590a",
   "metadata": {},
   "outputs": [],
   "source": [
    "Stock3::~Stock3(){\n",
    "    cout<<\"bye bye!\";\n",
    "}"
   ]
  },
  {
   "cell_type": "code",
   "execution_count": 8,
   "id": "80b9c5b8",
   "metadata": {},
   "outputs": [
    {
     "name": "stdout",
     "output_type": "stream",
     "text": [
      "test!!test!!"
     ]
    }
   ],
   "source": [
    "Stock3 *st5 = new Stock3(\"test!!\");\n",
    "st5->show();"
   ]
  },
  {
   "cell_type": "code",
   "execution_count": 9,
   "id": "3d573e30",
   "metadata": {},
   "outputs": [
    {
     "name": "stdout",
     "output_type": "stream",
     "text": [
      "bye bye!bye bye!"
     ]
    }
   ],
   "source": [
    "// 当我们的对象被回收的时候就会调用析构函数\n",
    "delete st5;"
   ]
  },
  {
   "cell_type": "code",
   "execution_count": 6,
   "id": "00797cd3",
   "metadata": {},
   "outputs": [
    {
     "name": "stdout",
     "output_type": "stream",
     "text": [
      "test6test6"
     ]
    }
   ],
   "source": [
    "// c++中可以把列表初始化的语法用于类，只需要提供和构造函数参数列表匹配的内容就可以了\n",
    "Stock3 st6 = {\"test6\"};\n",
    "st6.show();"
   ]
  },
  {
   "cell_type": "code",
   "execution_count": null,
   "id": "6286115d",
   "metadata": {},
   "outputs": [],
   "source": [
    "// 当我们想让成员函数设置为常量时可以这样\n",
    "void Stock3::show() const;"
   ]
  },
  {
   "cell_type": "markdown",
   "id": "3d2f181b",
   "metadata": {},
   "source": [
    "## 10.4 this指针"
   ]
  },
  {
   "cell_type": "code",
   "execution_count": 2,
   "id": "d37a3c7b",
   "metadata": {},
   "outputs": [],
   "source": [
    "// c++提供了一个this指针来表示自己\n",
    "class Stock4{\n",
    "    public:\n",
    "        int age;\n",
    "        Stock4(const int &g);\n",
    "        // 声明函数为常量\n",
    "        void show() const;\n",
    "        // 比较两个对象，返回数字较大的那个对象\n",
    "        const Stock4 & max(const Stock4 &s) const;\n",
    "};"
   ]
  },
  {
   "cell_type": "code",
   "execution_count": 3,
   "id": "6b7c700d",
   "metadata": {},
   "outputs": [],
   "source": [
    "Stock4::Stock4(const int &g){\n",
    "    age = g;\n",
    "}"
   ]
  },
  {
   "cell_type": "code",
   "execution_count": 4,
   "id": "14ac12fc",
   "metadata": {},
   "outputs": [],
   "source": [
    "void Stock4::show() const{\n",
    "   cout<<age;\n",
    "}"
   ]
  },
  {
   "cell_type": "code",
   "execution_count": 6,
   "id": "df6db938",
   "metadata": {},
   "outputs": [],
   "source": [
    "const Stock4 & Stock4::max(const Stock4 &s) const{\n",
    "    if(s.age > age) return s;\n",
    "    else return *this;\n",
    "}"
   ]
  },
  {
   "cell_type": "code",
   "execution_count": 8,
   "id": "df64c0d3",
   "metadata": {},
   "outputs": [
    {
     "name": "stdout",
     "output_type": "stream",
     "text": [
      "10"
     ]
    }
   ],
   "source": [
    "Stock4 a(10);\n",
    "Stock4 b(5);\n",
    "// 调用max来进行比较\n",
    "Stock4 c = a.max(b);\n",
    "// 都拿到最大的对象后就可以打印一下对应的值\n",
    "c.show();"
   ]
  },
  {
   "cell_type": "markdown",
   "id": "7d0fed43",
   "metadata": {},
   "source": [
    "## 10.5 对象数组"
   ]
  },
  {
   "cell_type": "code",
   "execution_count": 9,
   "id": "6cce12a4",
   "metadata": {},
   "outputs": [
    {
     "name": "stdout",
     "output_type": "stream",
     "text": [
      "2"
     ]
    }
   ],
   "source": [
    "// 对于没有定义构造函数的对象可以这样\n",
    "// Stock4 stuffs[4];\n",
    "// 如果对象有构造函数\n",
    "Stock4 stuffs[2] = {\n",
    "    Stock4(1),\n",
    "    Stock4(2)\n",
    "};\n",
    "// 然后我们就可以按照正常情况直接去调用了\n",
    "stuffs[1].show();"
   ]
  },
  {
   "cell_type": "markdown",
   "id": "1f940e93",
   "metadata": {},
   "source": [
    "## 10.6 类作用域\n",
    "\n",
    "在类中定义的名称（如类数据成员名和类成员函数名）的作用域都\n",
    "为整个类，作用域为整个类的名称只在该类中是已知的，在类外是不可\n",
    "知的。因此，可以在不同类中使用相同的类成员名而不会引起冲突。"
   ]
  },
  {
   "cell_type": "markdown",
   "id": "7a827cf7",
   "metadata": {},
   "source": [
    "## 10.7 抽象数据类型\n",
    "\n",
    "这里就是讲了一下使用类来模拟栈调用"
   ]
  },
  {
   "cell_type": "code",
   "execution_count": null,
   "id": "f91d056a",
   "metadata": {},
   "outputs": [],
   "source": []
  }
 ],
 "metadata": {
  "kernelspec": {
   "display_name": "C++17",
   "language": "C++17",
   "name": "xcpp17"
  },
  "language_info": {
   "codemirror_mode": "text/x-c++src",
   "file_extension": ".cpp",
   "mimetype": "text/x-c++src",
   "name": "c++",
   "version": "17"
  }
 },
 "nbformat": 4,
 "nbformat_minor": 5
}
