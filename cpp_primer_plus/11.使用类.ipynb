{
 "cells": [
  {
   "cell_type": "code",
   "execution_count": 1,
   "id": "074eb470",
   "metadata": {},
   "outputs": [],
   "source": [
    "#include <iostream>\n",
    "using namespace std;"
   ]
  },
  {
   "cell_type": "markdown",
   "id": "6b4e9277",
   "metadata": {},
   "source": [
    "## 11.1 运算符重载"
   ]
  },
  {
   "cell_type": "code",
   "execution_count": 1,
   "id": "851e3fb5",
   "metadata": {},
   "outputs": [],
   "source": [
    "// 其实就是相当于可以自己重写运算符，比如自己实现两个类相加操作"
   ]
  },
  {
   "cell_type": "markdown",
   "id": "74011d70",
   "metadata": {},
   "source": [
    "## 11.2 计算时间\n",
    "\n",
    "原书代码有点麻烦，这里直接简化了"
   ]
  },
  {
   "cell_type": "code",
   "execution_count": 2,
   "id": "60364a21",
   "metadata": {},
   "outputs": [],
   "source": [
    "class Time{\n",
    "    public:\n",
    "        int hours;\n",
    "        Time();\n",
    "        Time(int h);\n",
    "        // 我们这里就定义了一个重载函数\n",
    "        Time operator+(const Time& t) const;\n",
    "        void show() const;\n",
    "}"
   ]
  },
  {
   "cell_type": "code",
   "execution_count": 3,
   "id": "925c717a",
   "metadata": {},
   "outputs": [],
   "source": [
    "// 首先是默认的构造函数\n",
    "Time::Time(){\n",
    "    hours = 0;\n",
    "}"
   ]
  },
  {
   "cell_type": "code",
   "execution_count": 4,
   "id": "c4a46278",
   "metadata": {},
   "outputs": [],
   "source": [
    "Time::Time(int h){\n",
    "    hours = h;\n",
    "}"
   ]
  },
  {
   "cell_type": "code",
   "execution_count": 18,
   "id": "21d8f76e",
   "metadata": {},
   "outputs": [
    {
     "name": "stderr",
     "output_type": "stream",
     "text": [
      "\u001b[1minput_line_25:2:42: \u001b[0m\u001b[0;1;31merror: \u001b[0m\u001b[1mfunction definition is not allowed here\u001b[0m\n",
      " Time Time::operator+(const Time& t)const{\n",
      "\u001b[0;1;32m                                         ^\n",
      "\u001b[0m"
     ]
    },
    {
     "ename": "Interpreter Error",
     "evalue": "",
     "output_type": "error",
     "traceback": [
      "Interpreter Error: "
     ]
    }
   ],
   "source": [
    "Time Time::operator+(const Time& t)const{\n",
    "    int total = hours + t.hours;\n",
    "    return Time(total);\n",
    "}"
   ]
  },
  {
   "cell_type": "code",
   "execution_count": 8,
   "id": "2405651e",
   "metadata": {},
   "outputs": [],
   "source": [
    "void Time::show()const{\n",
    "    cout<<hours;\n",
    "}"
   ]
  },
  {
   "cell_type": "code",
   "execution_count": 9,
   "id": "2b301714",
   "metadata": {},
   "outputs": [
    {
     "name": "stderr",
     "output_type": "stream",
     "text": [
      "IncrementalExecutor::executeFunction: symbol '_ZNK11__cling_N524TimeplERKS0_' unresolved while linking function '_GLOBAL__sub_I_cling_module_14'!\n",
      "You are probably missing the definition of __cling_N52::Time::operator+(__cling_N52::Time const&) const\n",
      "Maybe you need to load the corresponding shared library?\n"
     ]
    },
    {
     "name": "stdout",
     "output_type": "stream",
     "text": [
      "0"
     ]
    }
   ],
   "source": [
    "// 然后我们就可以直接调用了，这里因为jupyter有点问题所以就不演示了\n",
    "Time a = Time(1);\n",
    "Time b = Time(2);\n",
    "Time c = a+b;\n",
    "c.show();"
   ]
  },
  {
   "cell_type": "markdown",
   "id": "adf261f6",
   "metadata": {},
   "source": [
    "重载有一定的限制\n",
    "1．重载后的运算符必须至少有一个操作数是用户定义的类型，这\n",
    "将防止用户为标准类型重载运算符。因此，不能将减法运算符（−）重\n",
    "载为计算两个double值的和，而不是它们的差。虽然这种限制将对创造\n",
    "性有所影响，但可以确保程序正常运行。\n",
    "\n",
    "2．使用运算符时不能违反运算符原来的句法规则。例如，不能将\n",
    "求模运算符（%）重载成使用一个操作数\n",
    "\n",
    "3．不能创建新运算符。例如，不能定义operator **( )函数来表示求\n",
    "幂。\n",
    "\n",
    "4．不能重载下面的运算符\n",
    "\n",
    "- sizeof：sizeof运算符。\n",
    "- .：成员运算符。\n",
    "- . *：成员指针运算符。\n",
    "- ::：作用域解析运算符。\n",
    "- ?:：条件运算符。\n",
    "- typeid：一个RTTI运算符。\n",
    "- const_cast：强制类型转换运算符。\n",
    "- dynamic_cast：强制类型转换运算符。\n",
    "- reinterpret_cast：强制类型转换运算符。\n",
    "- static_cast：强制类型转换运算符。\n",
    "\n",
    "5．表11.1中的大多数运算符都可以通过成员或非成员函数进行重\n",
    "载，但下面的运算符只能通过成员函数进行重载。\n",
    "- =：赋值运算符。\n",
    "- ( )：函数调用运算符。\n",
    "- []：下标运算符。\n",
    "- ->：通过指针访问类成员的运算符。\n"
   ]
  },
  {
   "cell_type": "markdown",
   "id": "297fe3f2",
   "metadata": {},
   "source": [
    "## 11.3 友元\n",
    "\n",
    "友元有3种：\n",
    "- 友元函数；\n",
    "- 友元类；\n",
    "- 友元成员函数。"
   ]
  },
  {
   "cell_type": "code",
   "execution_count": 5,
   "id": "a912b75e",
   "metadata": {},
   "outputs": [],
   "source": [
    "class A{\n",
    "    private:\n",
    "        int hours;\n",
    "    public:\n",
    "        A(int h);\n",
    "        // 这里我们创建了一个友元函数\n",
    "        friend void showA(A &a);\n",
    "    \n",
    "};"
   ]
  },
  {
   "cell_type": "code",
   "execution_count": 6,
   "id": "e568fc9f",
   "metadata": {},
   "outputs": [],
   "source": [
    "// 下面我们只实现一下构造方法\n",
    "A::A(int h){\n",
    "    hours = h;\n",
    "}"
   ]
  },
  {
   "cell_type": "code",
   "execution_count": 7,
   "id": "19b8c757",
   "metadata": {},
   "outputs": [],
   "source": [
    "// 我们实现一下友元函数，这个函数可以访问私有变量\n",
    "void showA(A &a){\n",
    "    cout<<a.hours;\n",
    "}"
   ]
  },
  {
   "cell_type": "code",
   "execution_count": 8,
   "id": "6da73ae1",
   "metadata": {},
   "outputs": [
    {
     "name": "stdout",
     "output_type": "stream",
     "text": [
      "45"
     ]
    }
   ],
   "source": [
    "A a(45);\n",
    "// 我们通过友元函数可以访问类的私有变量了\n",
    "showA(a);"
   ]
  },
  {
   "cell_type": "code",
   "execution_count": 9,
   "id": "5def237a",
   "metadata": {},
   "outputs": [
    {
     "name": "stderr",
     "output_type": "stream",
     "text": [
      "\u001b[1minput_line_16:3:13: \u001b[0m\u001b[0;1;31merror: \u001b[0m\u001b[1m'hours' is a private member of '__cling_N55::A'\u001b[0m\n",
      "    cout<<a.hours;\n",
      "\u001b[0;1;32m            ^\n",
      "\u001b[0m\u001b[1minput_line_12:3:13: \u001b[0m\u001b[0;1;30mnote: \u001b[0mdeclared private here\u001b[0m\n",
      "        int hours;\n",
      "\u001b[0;1;32m            ^\n",
      "\u001b[0m"
     ]
    },
    {
     "ename": "Interpreter Error",
     "evalue": "",
     "output_type": "error",
     "traceback": [
      "Interpreter Error: "
     ]
    }
   ],
   "source": [
    "// 我们再创建另外一个试一下，这里会报错\n",
    "void showB(A &a){\n",
    "    cout<<a.hours;\n",
    "}"
   ]
  },
  {
   "cell_type": "markdown",
   "id": "ab659804",
   "metadata": {},
   "source": [
    "## 11.6 类的自动转换"
   ]
  },
  {
   "cell_type": "code",
   "execution_count": 15,
   "id": "695d035c",
   "metadata": {},
   "outputs": [],
   "source": [
    "class Stonewt{\n",
    "    private:\n",
    "    int age;\n",
    "    public:\n",
    "    Stonewt();\n",
    "    Stonewt(int a);\n",
    "    void show() const;\n",
    "}"
   ]
  },
  {
   "cell_type": "code",
   "execution_count": 16,
   "id": "af25c3a6",
   "metadata": {},
   "outputs": [],
   "source": [
    "Stonewt::Stonewt(int a){\n",
    "    age=a;\n",
    "}"
   ]
  },
  {
   "cell_type": "code",
   "execution_count": 17,
   "id": "ea143742",
   "metadata": {},
   "outputs": [],
   "source": [
    "void Stonewt::show() const {\n",
    "    cout<<age;\n",
    "}"
   ]
  },
  {
   "cell_type": "code",
   "execution_count": 13,
   "id": "77c28119",
   "metadata": {},
   "outputs": [
    {
     "name": "stdout",
     "output_type": "stream",
     "text": [
      "10"
     ]
    }
   ],
   "source": [
    "// 默认情况下我们是这样初始化类的\n",
    "Stonewt a = Stonewt(10);\n",
    "a.show();"
   ]
  },
  {
   "cell_type": "code",
   "execution_count": 19,
   "id": "bce41d58",
   "metadata": {},
   "outputs": [
    {
     "name": "stderr",
     "output_type": "stream",
     "text": [
      "IncrementalExecutor::executeFunction: symbol '_ZN12__cling_N5157StonewtC1Ev' unresolved while linking function '_GLOBAL__sub_I_cling_module_24'!\n",
      "You are probably missing the definition of __cling_N515::Stonewt::Stonewt()\n",
      "Maybe you need to load the corresponding shared library?\n"
     ]
    },
    {
     "name": "stdout",
     "output_type": "stream",
     "text": [
      "20"
     ]
    }
   ],
   "source": [
    "// 但是类有一个自动转换的功能\n",
    "Stonewt b;\n",
    "b = 20;\n",
    "b.show();"
   ]
  },
  {
   "cell_type": "code",
   "execution_count": 3,
   "id": "7b623742",
   "metadata": {},
   "outputs": [],
   "source": [
    "// 只有接受一个参数的构造函数才能作为转换函数。构造函数有两个参数，不能用来转换类型\n",
    "// 为了避免被自动转换，c++新增了 explicit 关键字\n",
    "class Stonewt2{\n",
    "    private:\n",
    "    int age;\n",
    "    public:\n",
    "    Stonewt2();\n",
    "    explicit Stonewt2(int a);\n",
    "    void show() const;\n",
    "};"
   ]
  },
  {
   "cell_type": "code",
   "execution_count": 7,
   "id": "f0a1005b",
   "metadata": {},
   "outputs": [],
   "source": [
    "Stonewt2::Stonewt2(int a){\n",
    "    age=a;\n",
    "};"
   ]
  },
  {
   "cell_type": "code",
   "execution_count": 8,
   "id": "09eb12ce",
   "metadata": {},
   "outputs": [],
   "source": [
    "void Stonewt2::show() const {\n",
    "    cout<<age;\n",
    "};"
   ]
  },
  {
   "cell_type": "code",
   "execution_count": 9,
   "id": "0b74d2e9",
   "metadata": {},
   "outputs": [
    {
     "name": "stdout",
     "output_type": "stream",
     "text": [
      "20"
     ]
    }
   ],
   "source": [
    "// 可以正常使用\n",
    "Stonewt2 a = Stonewt2(20);\n",
    "a.show();"
   ]
  },
  {
   "cell_type": "code",
   "execution_count": 11,
   "id": "00f6e244",
   "metadata": {},
   "outputs": [
    {
     "name": "stderr",
     "output_type": "stream",
     "text": [
      "\u001b[1minput_line_18:4:3: \u001b[0m\u001b[0;1;31merror: \u001b[0m\u001b[1mno viable overloaded '='\u001b[0m\n",
      "b = 20;\n",
      "\u001b[0;1;32m~ ^ ~~\n",
      "\u001b[0m\u001b[1minput_line_10:3:7: \u001b[0m\u001b[0;1;30mnote: \u001b[0mcandidate function (the implicit copy assignment operator) not viable: no known conversion from 'int' to 'const __cling_N53::Stonewt2' for 1st argument\u001b[0m\n",
      "class Stonewt2{\n",
      "\u001b[0;1;32m      ^\n",
      "\u001b[0m\u001b[1minput_line_10:3:7: \u001b[0m\u001b[0;1;30mnote: \u001b[0mcandidate function (the implicit move assignment operator) not viable: no known conversion from 'int' to '__cling_N53::Stonewt2' for 1st argument\u001b[0m\n"
     ]
    },
    {
     "ename": "Interpreter Error",
     "evalue": "",
     "output_type": "error",
     "traceback": [
      "Interpreter Error: "
     ]
    }
   ],
   "source": [
    "// 不能隐式转换\n",
    "Stonewt2 b;\n",
    "b = 20;\n",
    "b.show();"
   ]
  },
  {
   "cell_type": "code",
   "execution_count": 12,
   "id": "475a31ff",
   "metadata": {},
   "outputs": [
    {
     "name": "stderr",
     "output_type": "stream",
     "text": [
      "IncrementalExecutor::executeFunction: symbol '_ZN11__cling_N538Stonewt2C1Ev' unresolved while linking function '_GLOBAL__sub_I_cling_module_17'!\n",
      "You are probably missing the definition of __cling_N53::Stonewt2::Stonewt2()\n",
      "Maybe you need to load the corresponding shared library?\n"
     ]
    },
    {
     "name": "stdout",
     "output_type": "stream",
     "text": [
      "30"
     ]
    }
   ],
   "source": [
    "// 但是还是可以进行强制转换\n",
    "Stonewt2 c;\n",
    "c = (Stonewt2)30;\n",
    "c.show();"
   ]
  },
  {
   "cell_type": "code",
   "execution_count": 13,
   "id": "19d362d9",
   "metadata": {},
   "outputs": [
    {
     "name": "stderr",
     "output_type": "stream",
     "text": [
      "IncrementalExecutor::executeFunction: symbol '_ZN11__cling_N538Stonewt2C1Ev' unresolved while linking function '_GLOBAL__sub_I_cling_module_18'!\n",
      "You are probably missing the definition of __cling_N53::Stonewt2::Stonewt2()\n",
      "Maybe you need to load the corresponding shared library?\n"
     ]
    },
    {
     "name": "stdout",
     "output_type": "stream",
     "text": [
      "40"
     ]
    }
   ],
   "source": [
    "Stonewt2 d;\n",
    "d = Stonewt2(40);\n",
    "d.show();"
   ]
  },
  {
   "cell_type": "code",
   "execution_count": 14,
   "id": "61da1ddb",
   "metadata": {},
   "outputs": [],
   "source": [
    "// 我们可以把基本类型转换为类，也可以通过转换函数把类转换为基本类型\n",
    "class Stonewt3{\n",
    "    private:\n",
    "    int age;\n",
    "    public:\n",
    "    Stonewt3(int a);\n",
    "    // 这里我们定义一个转换函数\n",
    "    operator int() const;\n",
    "    void show() const;\n",
    "};"
   ]
  },
  {
   "cell_type": "code",
   "execution_count": 15,
   "id": "fdad7a91",
   "metadata": {},
   "outputs": [],
   "source": [
    "Stonewt3::Stonewt3(int a){\n",
    "    age=a;\n",
    "};"
   ]
  },
  {
   "cell_type": "code",
   "execution_count": 16,
   "id": "76a8a019",
   "metadata": {},
   "outputs": [],
   "source": [
    "void Stonewt3::show() const {\n",
    "    cout<<age;\n",
    "};"
   ]
  },
  {
   "cell_type": "code",
   "execution_count": 17,
   "id": "598d4cb1",
   "metadata": {},
   "outputs": [],
   "source": [
    "Stonewt3::operator int() const {\n",
    "    return age;\n",
    "};"
   ]
  },
  {
   "cell_type": "code",
   "execution_count": 18,
   "id": "6ba3403c",
   "metadata": {},
   "outputs": [
    {
     "name": "stdout",
     "output_type": "stream",
     "text": [
      "10"
     ]
    }
   ],
   "source": [
    "// 我们初始化这个类\n",
    "Stonewt3 a(10);\n",
    "a.show();"
   ]
  },
  {
   "cell_type": "code",
   "execution_count": 19,
   "id": "8a3fd281",
   "metadata": {},
   "outputs": [
    {
     "name": "stdout",
     "output_type": "stream",
     "text": [
      "10"
     ]
    }
   ],
   "source": [
    "// 可以直接转换\n",
    "int b = a;\n",
    "cout<<b;"
   ]
  },
  {
   "cell_type": "code",
   "execution_count": 20,
   "id": "0019d08a",
   "metadata": {},
   "outputs": [
    {
     "name": "stdout",
     "output_type": "stream",
     "text": [
      "10"
     ]
    }
   ],
   "source": [
    "// 也可以强制转换\n",
    "int c = (int)a;\n",
    "cout<<c;"
   ]
  },
  {
   "cell_type": "code",
   "execution_count": 22,
   "id": "f6e44d0d",
   "metadata": {},
   "outputs": [
    {
     "name": "stdout",
     "output_type": "stream",
     "text": [
      "10"
     ]
    }
   ],
   "source": [
    "// "
   ]
  },
  {
   "cell_type": "code",
   "execution_count": null,
   "id": "257b93b8",
   "metadata": {},
   "outputs": [],
   "source": []
  }
 ],
 "metadata": {
  "kernelspec": {
   "display_name": "C++17",
   "language": "C++17",
   "name": "xcpp17"
  },
  "language_info": {
   "codemirror_mode": "text/x-c++src",
   "file_extension": ".cpp",
   "mimetype": "text/x-c++src",
   "name": "c++",
   "version": "17"
  }
 },
 "nbformat": 4,
 "nbformat_minor": 5
}
